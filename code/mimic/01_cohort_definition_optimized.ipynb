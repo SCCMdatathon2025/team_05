{
 "cells": [
  {
   "cell_type": "markdown",
   "metadata": {},
   "source": [
    "# ARDS Cohort Definition - Optimized Vectorized Implementation\n",
    "\n",
    "This notebook efficiently identifies the cohort for analyzing timing of proning and neuromuscular blockade in ARDS patients using fully vectorized operations.\n",
    "\n",
    "## Inclusion Criteria:\n",
    "- Adults (≥18 years)\n",
    "- At least one ICU admission\n",
    "- PEEP ≥ 5 within first 48 hours of ICU admission\n",
    "- S/F ratio < 315 at least once (SpO2/FiO2)\n",
    "- At least one radiology report\n",
    "\n",
    "## Exclusion Criteria:\n",
    "- Pregnant patients\n",
    "- Patients with heart failure\n",
    "\n",
    "## Optimization Strategy:\n",
    "- Single-pass data loading where possible\n",
    "- Vectorized pandas operations throughout\n",
    "- Memory-efficient processing with garbage collection\n",
    "- Efficient time-based matching algorithms"
   ]
  },
  {
   "cell_type": "code",
   "execution_count": 1,
   "metadata": {},
   "outputs": [
    {
     "name": "stdout",
     "output_type": "stream",
     "text": [
      "MIMIC data path: /Users/kavenchhikara/Desktop/CLIF/MIMIC-IV-3.1/physionet.org/files\n",
      "Analysis start time: 2025-07-20 01:24:39.060399\n",
      "Output path: /Users/kavenchhikara/Desktop/projects/SCCM/SCCM-Team2/ards_analysis/data\n"
     ]
    }
   ],
   "source": [
    "import pandas as pd\n",
    "import numpy as np\n",
    "from datetime import datetime, timedelta\n",
    "import gc\n",
    "import os\n",
    "import warnings\n",
    "warnings.filterwarnings('ignore')\n",
    "\n",
    "# Define MIMIC data path\n",
    "MIMIC_PATH = '/Users/kavenchhikara/Desktop/CLIF/MIMIC-IV-3.1/physionet.org/files'\n",
    "OUTPUT_PATH = '/Users/kavenchhikara/Desktop/projects/SCCM/SCCM-Team2/ards_analysis/data'\n",
    "\n",
    "# Create output directory\n",
    "os.makedirs(OUTPUT_PATH, exist_ok=True)\n",
    "\n",
    "print(f\"MIMIC data path: {MIMIC_PATH}\")\n",
    "print(f\"Analysis start time: {datetime.now()}\")\n",
    "print(f\"Output path: {OUTPUT_PATH}\")"
   ]
  },
  {
   "cell_type": "markdown",
   "metadata": {},
   "source": [
    "## Step 1: Load Core Tables and Filter Adults with ICU Stays"
   ]
  },
  {
   "cell_type": "code",
   "execution_count": 2,
   "metadata": {},
   "outputs": [
    {
     "name": "stdout",
     "output_type": "stream",
     "text": [
      "Loading core tables...\n",
      "Total patients: 364,627\n",
      "Total admissions: 546,028\n",
      "Total ICU stays: 94,458\n"
     ]
    }
   ],
   "source": [
    "# Load core demographic and admission data\n",
    "print(\"Loading core tables...\")\n",
    "\n",
    "# Load patients\n",
    "patients = pd.read_csv(f'{MIMIC_PATH}/mimiciv/3.1/hosp/patients.csv.gz')\n",
    "print(f\"Total patients: {len(patients):,}\")\n",
    "\n",
    "# Load admissions\n",
    "admissions = pd.read_csv(f'{MIMIC_PATH}/mimiciv/3.1/hosp/admissions.csv.gz')\n",
    "admissions['admittime'] = pd.to_datetime(admissions['admittime'])\n",
    "admissions['dischtime'] = pd.to_datetime(admissions['dischtime'])\n",
    "print(f\"Total admissions: {len(admissions):,}\")\n",
    "\n",
    "# Load ICU stays\n",
    "icustays = pd.read_csv(f'{MIMIC_PATH}/mimiciv/3.1/icu/icustays.csv.gz')\n",
    "icustays['intime'] = pd.to_datetime(icustays['intime'])\n",
    "icustays['outtime'] = pd.to_datetime(icustays['outtime'])\n",
    "print(f\"Total ICU stays: {len(icustays):,}\")"
   ]
  },
  {
   "cell_type": "code",
   "execution_count": 3,
   "metadata": {},
   "outputs": [
    {
     "name": "stdout",
     "output_type": "stream",
     "text": [
      "Creating patient-admission-ICU dataset...\n",
      "Adult admissions: 546,028\n",
      "Adult admissions with ICU stays: 94,458\n",
      "Unique patients with ICU stays: 65,366\n"
     ]
    },
    {
     "data": {
      "text/plain": [
       "22"
      ]
     },
     "execution_count": 3,
     "metadata": {},
     "output_type": "execute_result"
    }
   ],
   "source": [
    "# Create comprehensive patient-admission-ICU dataset (vectorized)\n",
    "print(\"Creating patient-admission-ICU dataset...\")\n",
    "\n",
    "# Calculate age at admission (vectorized)\n",
    "admissions['admit_year'] = admissions['admittime'].dt.year\n",
    "patient_data = admissions.merge(\n",
    "    patients[['subject_id', 'anchor_age', 'anchor_year', 'gender']], \n",
    "    on='subject_id', \n",
    "    how='left'\n",
    ")\n",
    "patient_data['age_at_admission'] = (\n",
    "    patient_data['anchor_age'] + \n",
    "    (patient_data['admit_year'] - patient_data['anchor_year'])\n",
    ")\n",
    "\n",
    "# Filter adults (≥18 years) - vectorized\n",
    "adult_admissions = patient_data[patient_data['age_at_admission'] >= 18].copy()\n",
    "print(f\"Adult admissions: {len(adult_admissions):,}\")\n",
    "\n",
    "# Merge with ICU stays - vectorized inner join\n",
    "adult_icu_admissions = adult_admissions.merge(\n",
    "    icustays[['hadm_id', 'stay_id', 'intime', 'outtime']], \n",
    "    on='hadm_id', \n",
    "    how='inner'\n",
    ")\n",
    "print(f\"Adult admissions with ICU stays: {len(adult_icu_admissions):,}\")\n",
    "print(f\"Unique patients with ICU stays: {adult_icu_admissions['subject_id'].nunique():,}\")\n",
    "\n",
    "# Clear intermediate data\n",
    "del patients, admissions, patient_data\n",
    "gc.collect()"
   ]
  },
  {
   "cell_type": "markdown",
   "metadata": {},
   "source": [
    "## Step 2: Extract Ventilation Parameters (PEEP ≥5, SpO2, FiO2) - Single Pass"
   ]
  },
  {
   "cell_type": "code",
   "execution_count": 4,
   "metadata": {},
   "outputs": [
    {
     "name": "stdout",
     "output_type": "stream",
     "text": [
      "Target ICU stays: 94,458\n",
      "Loading chartevents for ventilation parameters...\n",
      "This is the most memory-intensive step - loading ~40GB file...\n",
      "Chartevents loaded: 432,997,491 rows\n",
      "Ventilation measurements for cohort: 19,758,934\n",
      "Freed chartevents memory\n"
     ]
    }
   ],
   "source": [
    "# Define itemids for all ventilation parameters\n",
    "PEEP_ITEMIDS = [220339, 224700, 224699]  # PEEP set, Total PEEP, Auto PEEP\n",
    "SPO2_ITEMIDS = [220277, 224696]          # SpO2 pulse oximetry\n",
    "FIO2_ITEMIDS = [220210, 223835]          # FiO2 (%) and FiO2 (fraction)\n",
    "ALL_VENT_ITEMIDS = PEEP_ITEMIDS + SPO2_ITEMIDS + FIO2_ITEMIDS\n",
    "\n",
    "# Get target ICU stays\n",
    "target_stay_ids = set(adult_icu_admissions['stay_id'])\n",
    "print(f\"Target ICU stays: {len(target_stay_ids):,}\")\n",
    "\n",
    "print(\"Loading chartevents for ventilation parameters...\")\n",
    "print(\"This is the most memory-intensive step - loading ~40GB file...\")\n",
    "\n",
    "# Load chartevents with only necessary columns\n",
    "chartevents = pd.read_csv(\n",
    "    f'{MIMIC_PATH}/mimiciv/3.1/icu/chartevents.csv.gz',\n",
    "    usecols=['stay_id', 'itemid', 'charttime', 'valuenum'],\n",
    "    dtype={'stay_id': 'int32', 'itemid': 'int32', 'valuenum': 'float32'}\n",
    ")\n",
    "print(f\"Chartevents loaded: {len(chartevents):,} rows\")\n",
    "\n",
    "# Filter to our cohort and ventilation items in single operation (vectorized)\n",
    "vent_data = chartevents[\n",
    "    (chartevents['stay_id'].isin(target_stay_ids)) &\n",
    "    (chartevents['itemid'].isin(ALL_VENT_ITEMIDS)) &\n",
    "    (chartevents['valuenum'].notna())\n",
    "].copy()\n",
    "\n",
    "print(f\"Ventilation measurements for cohort: {len(vent_data):,}\")\n",
    "\n",
    "# Clear original chartevents immediately to free memory\n",
    "del chartevents\n",
    "gc.collect()\n",
    "print(\"Freed chartevents memory\")"
   ]
  },
  {
   "cell_type": "code",
   "execution_count": 5,
   "metadata": {},
   "outputs": [
    {
     "data": {
      "text/plain": [
       "Index(['stay_id', 'charttime', 'itemid', 'valuenum'], dtype='object')"
      ]
     },
     "execution_count": 5,
     "metadata": {},
     "output_type": "execute_result"
    }
   ],
   "source": [
    "vent_data.columns"
   ]
  },
  {
   "cell_type": "code",
   "execution_count": 6,
   "metadata": {},
   "outputs": [
    {
     "data": {
      "text/plain": [
       "Index(['subject_id', 'hadm_id', 'admittime', 'dischtime', 'deathtime',\n",
       "       'admission_type', 'admit_provider_id', 'admission_location',\n",
       "       'discharge_location', 'insurance', 'language', 'marital_status', 'race',\n",
       "       'edregtime', 'edouttime', 'hospital_expire_flag', 'admit_year',\n",
       "       'anchor_age', 'anchor_year', 'gender', 'age_at_admission', 'stay_id',\n",
       "       'intime', 'outtime'],\n",
       "      dtype='object')"
      ]
     },
     "execution_count": 6,
     "metadata": {},
     "output_type": "execute_result"
    }
   ],
   "source": [
    "adult_icu_admissions.columns"
   ]
  },
  {
   "cell_type": "code",
   "execution_count": 7,
   "metadata": {},
   "outputs": [],
   "source": [
    "# Add parameter type classification (vectorized)\n",
    "vent_data['param_type'] = 'unknown'\n",
    "vent_data.loc[vent_data['itemid'].isin(PEEP_ITEMIDS), 'param_type'] = 'peep'\n",
    "vent_data.loc[vent_data['itemid'].isin(SPO2_ITEMIDS), 'param_type'] = 'spo2'\n",
    "vent_data.loc[vent_data['itemid'].isin(FIO2_ITEMIDS), 'param_type'] = 'fio2'"
   ]
  },
  {
   "cell_type": "code",
   "execution_count": 9,
   "metadata": {},
   "outputs": [
    {
     "name": "stdout",
     "output_type": "stream",
     "text": [
      "Ventilation data with timing: 19,758,934\n",
      "Parameter distribution:\n",
      "param_type\n",
      "fio2    9780944\n",
      "spo2    8859200\n",
      "peep    1118790\n",
      "Name: count, dtype: int64\n"
     ]
    }
   ],
   "source": [
    "# Convert charttime and merge with ICU stay info\n",
    "vent_data['charttime'] = pd.to_datetime(vent_data['charttime'])\n",
    "vent_data = vent_data.merge(\n",
    "    adult_icu_admissions[['stay_id', 'hadm_id', 'intime']], \n",
    "    on='stay_id', \n",
    "    how='left'\n",
    ")\n",
    "\n",
    "# Calculate hours from ICU admission (vectorized)\n",
    "vent_data['hours_from_icu'] = (\n",
    "    vent_data['charttime'] - vent_data['intime']\n",
    ").dt.total_seconds() / 3600\n",
    "\n",
    "print(f\"Ventilation data with timing: {len(vent_data):,}\")\n",
    "print(f\"Parameter distribution:\")\n",
    "print(vent_data['param_type'].value_counts())"
   ]
  },
  {
   "cell_type": "markdown",
   "metadata": {},
   "source": [
    "## Step 3: Apply PEEP ≥5 Filter (First 48 Hours)"
   ]
  },
  {
   "cell_type": "code",
   "execution_count": 10,
   "metadata": {},
   "outputs": [
    {
     "name": "stdout",
     "output_type": "stream",
     "text": [
      "Admissions with PEEP ≥5 in first 48h: 35,684\n",
      "ICU stays after PEEP filter: 41,714\n",
      "Unique admissions after PEEP filter: 35,684\n",
      "Ventilation data after PEEP filter: 13,449,609\n"
     ]
    },
    {
     "data": {
      "text/plain": [
       "1208"
      ]
     },
     "execution_count": 10,
     "metadata": {},
     "output_type": "execute_result"
    }
   ],
   "source": [
    "# Extract PEEP measurements in first 48 hours ≥5 (vectorized)\n",
    "peep_qualifying = vent_data[\n",
    "    (vent_data['param_type'] == 'peep') &\n",
    "    (vent_data['hours_from_icu'] >= 0) &\n",
    "    (vent_data['hours_from_icu'] <= 48) &\n",
    "    (vent_data['valuenum'] >= 5)\n",
    "]\n",
    "\n",
    "# Get admissions meeting PEEP criteria\n",
    "peep_qualifying_admissions = set(peep_qualifying['hadm_id'].unique())\n",
    "print(f\"Admissions with PEEP ≥5 in first 48h: {len(peep_qualifying_admissions):,}\")\n",
    "\n",
    "# Filter cohort to PEEP-qualifying admissions\n",
    "cohort_peep_qualified = adult_icu_admissions[\n",
    "    adult_icu_admissions['hadm_id'].isin(peep_qualifying_admissions)\n",
    "].copy()\n",
    "\n",
    "# This should now be <= peep_qualifying_admissions\n",
    "print(f\"ICU stays after PEEP filter: {len(cohort_peep_qualified):,}\")\n",
    "print(f\"Unique admissions after PEEP filter: {cohort_peep_qualified['hadm_id'].nunique():,}\")\n",
    "\n",
    "# Filter ventilation data to qualifying admissions for efficiency\n",
    "vent_data_filtered = vent_data[\n",
    "    vent_data['hadm_id'].isin(peep_qualifying_admissions)\n",
    "].copy()\n",
    "print(f\"Ventilation data after PEEP filter: {len(vent_data_filtered):,}\")\n",
    "\n",
    "# Clear unfiltered data\n",
    "# del vent_data, peep_qualifying\n",
    "gc.collect()"
   ]
  },
  {
   "cell_type": "markdown",
   "metadata": {},
   "source": [
    "## Step 4: Calculate S/F Ratios and Apply <315 Filter"
   ]
  },
  {
   "cell_type": "code",
   "execution_count": 14,
   "metadata": {},
   "outputs": [
    {
     "name": "stdout",
     "output_type": "stream",
     "text": [
      "SpO2 and FiO2 measurements: 12,388,357\n",
      "Parameter distribution:\n",
      "param_type\n",
      "fio2    6584031\n",
      "spo2    5804326\n",
      "Name: count, dtype: int64\n",
      "Calculating S/F ratios using pivot method...\n",
      "Successful S/F calculations (pivot method): 5,166,761\n",
      "S/F ratio distribution:\n",
      "count    5.166761e+06\n",
      "mean     5.102108e+02\n",
      "std      3.285338e+04\n",
      "min     -2.712000e+03\n",
      "25%      3.692308e+02\n",
      "50%      4.700000e+02\n",
      "75%      5.875000e+02\n",
      "max      5.955586e+07\n",
      "Name: sf_ratio, dtype: float64\n",
      "\n",
      "Admissions with S/F < 315: 33789\n",
      "Admissions meeting PEEP AND S/F criteria: 33,789\n"
     ]
    },
    {
     "data": {
      "text/plain": [
       "0"
      ]
     },
     "execution_count": 14,
     "metadata": {},
     "output_type": "execute_result"
    }
   ],
   "source": [
    "# Extract SpO2 and FiO2 data and calculate S/F ratios using pivot\n",
    "spo2_fio2_data = vent_data_filtered[\n",
    "    vent_data_filtered['param_type'].isin(['spo2', 'fio2'])\n",
    "].copy()\n",
    "\n",
    "print(f\"SpO2 and FiO2 measurements: {len(spo2_fio2_data):,}\")\n",
    "print(f\"Parameter distribution:\")\n",
    "print(spo2_fio2_data['param_type'].value_counts())\n",
    "\n",
    "if len(spo2_fio2_data) > 0:\n",
    "    # Convert FiO2 percentages to fractions (vectorized)\n",
    "    fio2_mask = (spo2_fio2_data['param_type'] == 'fio2') & (spo2_fio2_data['valuenum'] > 1)\n",
    "    spo2_fio2_data.loc[fio2_mask, 'valuenum'] = spo2_fio2_data.loc[fio2_mask, 'valuenum'] / 100\n",
    "\n",
    "    print(\"Calculating S/F ratios using pivot method...\")\n",
    "\n",
    "    # Pivot to get SpO2 and FiO2 as columns (vectorized)\n",
    "    sf_pivot = spo2_fio2_data.pivot_table(\n",
    "        index=['hadm_id', 'charttime'],\n",
    "        columns='param_type',\n",
    "        values='valuenum',\n",
    "        aggfunc='first'  # Take first value if multiple at same time\n",
    "    ).reset_index()\n",
    "\n",
    "    # Clean up column names\n",
    "    sf_pivot.columns.name = None\n",
    "\n",
    "    # Ensure both columns exist\n",
    "    if 'spo2' not in sf_pivot.columns:\n",
    "        sf_pivot['spo2'] = np.nan\n",
    "    if 'fio2' not in sf_pivot.columns:\n",
    "        sf_pivot['fio2'] = np.nan\n",
    "\n",
    "    # Calculate S/F ratios where both measurements exist (vectorized)\n",
    "    sf_ratios = sf_pivot.dropna(subset=['spo2', 'fio2']).copy()\n",
    "    sf_ratios = sf_ratios[sf_ratios['fio2'] > 0]  # Avoid division by zero\n",
    "    sf_ratios['sf_ratio'] = sf_ratios['spo2'] / sf_ratios['fio2']\n",
    "\n",
    "    print(f\"Successful S/F calculations (pivot method): {len(sf_ratios):,}\")\n",
    "    print(f\"S/F ratio distribution:\")\n",
    "    print(sf_ratios['sf_ratio'].describe())\n",
    "\n",
    "    # Filter for S/F < 315\n",
    "    low_sf_ratios = sf_ratios[sf_ratios['sf_ratio'] < 315]\n",
    "    sf_qualifying_admissions = set(low_sf_ratios['hadm_id'].unique())\n",
    "\n",
    "    print(f\"\\nAdmissions with S/F < 315: {len(sf_qualifying_admissions)}\")\n",
    "\n",
    "    # Get final qualifying admissions (PEEP AND S/F criteria)\n",
    "    final_qualifying_admissions = peep_qualifying_admissions.intersection(sf_qualifying_admissions)\n",
    "    print(f\"Admissions meeting PEEP AND S/F criteria: {len(final_qualifying_admissions):,}\")\n",
    "\n",
    "    # Clear intermediate data\n",
    "    del spo2_fio2_data, sf_pivot, sf_ratios, low_sf_ratios\n",
    "    gc.collect()\n",
    "\n",
    "else:\n",
    "    print(\"Insufficient SpO2/FiO2 data!\")\n",
    "    final_qualifying_admissions = set()\n",
    "\n",
    "# Clear ventilation data\n",
    "# del vent_data_filtered\n",
    "gc.collect()"
   ]
  },
  {
   "cell_type": "code",
   "execution_count": null,
   "metadata": {},
   "outputs": [],
   "source": [
    "# final_qualifying_admissions"
   ]
  },
  {
   "cell_type": "markdown",
   "metadata": {},
   "source": [
    "## Step 5: Apply Exclusion Criteria (Heart Failure & Pregnancy)"
   ]
  },
  {
   "cell_type": "code",
   "execution_count": 17,
   "metadata": {},
   "outputs": [
    {
     "name": "stdout",
     "output_type": "stream",
     "text": [
      "Loading diagnoses for exclusion criteria...\n",
      "Heart failure admissions: 80,611\n",
      "Pregnancy admissions: 26,549\n",
      "\n",
      "Cohort before exclusions: 33789\n",
      "Excluded (HF or pregnancy): 107090\n",
      "Final qualifying admissions: 24195\n"
     ]
    }
   ],
   "source": [
    "if len(final_qualifying_admissions) > 0:\n",
    "    print(\"Loading diagnoses for exclusion criteria...\")\n",
    "    diagnoses = pd.read_csv(\n",
    "        f'{MIMIC_PATH}/mimiciv/3.1/hosp/diagnoses_icd.csv.gz',\n",
    "        usecols=['hadm_id', 'icd_code']  # Only need these columns\n",
    "    )\n",
    "    \n",
    "    # Heart failure codes (vectorized)\n",
    "    hf_codes = (\n",
    "        [str(x) for x in range(4280, 4290)] +  # ICD-9: 428.x\n",
    "        ['I50'] + [f'I50{x}' for x in range(10)]  # ICD-10: I50.x\n",
    "    )\n",
    "    \n",
    "    # Pregnancy codes (vectorized)\n",
    "    pregnancy_codes = (\n",
    "        [str(x) for x in range(630, 680)] +  # ICD-9: 630-679\n",
    "        ['O']  # ICD-10: O prefix\n",
    "    )\n",
    "    \n",
    "    # Find heart failure admissions (vectorized)\n",
    "    hf_mask = (\n",
    "        diagnoses['icd_code'].str.startswith(tuple(hf_codes), na=False)\n",
    "    )\n",
    "    hf_admissions = set(diagnoses[hf_mask]['hadm_id'].unique())\n",
    "    \n",
    "    # Find pregnancy admissions (vectorized)\n",
    "    pregnancy_mask = (\n",
    "        (diagnoses['icd_code'].str[:3].isin([str(x) for x in range(630, 680)])) |\n",
    "        (diagnoses['icd_code'].str.startswith('O', na=False))\n",
    "    )\n",
    "    pregnancy_admissions = set(diagnoses[pregnancy_mask]['hadm_id'].unique())\n",
    "    \n",
    "    print(f\"Heart failure admissions: {len(hf_admissions):,}\")\n",
    "    print(f\"Pregnancy admissions: {len(pregnancy_admissions):,}\")\n",
    "    \n",
    "    # Apply exclusions (set operations are very fast)\n",
    "    excluded_admissions = hf_admissions.union(pregnancy_admissions)\n",
    "    final_cohort_admissions = final_qualifying_admissions - excluded_admissions\n",
    "    \n",
    "    print(f\"\\nCohort before exclusions: {len(final_qualifying_admissions)}\")\n",
    "    print(f\"Excluded (HF or pregnancy): {len(excluded_admissions)}\")\n",
    "    print(f\"Final qualifying admissions: {len(final_cohort_admissions)}\")\n",
    "    \n",
    "    # Clear diagnoses data\n",
    "    # del diagnoses\n",
    "    gc.collect()\n",
    "    \n",
    "else:\n",
    "    print(\"No admissions for exclusion criteria!\")\n",
    "    final_cohort_admissions = set()"
   ]
  },
  {
   "cell_type": "markdown",
   "metadata": {},
   "source": [
    "## Step 5: Filter for Radiology Reports"
   ]
  },
  {
   "cell_type": "code",
   "execution_count": 19,
   "metadata": {},
   "outputs": [
    {
     "name": "stdout",
     "output_type": "stream",
     "text": [
      "Loading radiology data...\n",
      "Admissions with radiology reports: 309670\n",
      "Admissions with vent criteria AND radiology: 18857\n"
     ]
    }
   ],
   "source": [
    "if len(final_cohort_admissions) > 0:\n",
    "    print(\"Loading radiology data...\")\n",
    "    radiology = pd.read_csv(\n",
    "        f'{MIMIC_PATH}/mimic-iv-note/2.2/note/radiology.csv.gz',\n",
    "        usecols=['hadm_id']  # Only need hadm_id for filtering\n",
    "    )\n",
    "    \n",
    "    # Get admissions with radiology reports (vectorized)\n",
    "    radiology_admissions = set(radiology['hadm_id'].dropna().unique())\n",
    "    print(f\"Admissions with radiology reports: {len(radiology_admissions)}\")\n",
    "    \n",
    "    # Filter to admissions with both vent criteria AND radiology reports\n",
    "    final_cohort_admissions_w_reports = final_cohort_admissions.intersection(radiology_admissions)\n",
    "    print(f\"Admissions with vent criteria AND radiology: {len(final_cohort_admissions_w_reports)}\")\n",
    "    \n",
    "    # Clear radiology data\n",
    "    del radiology\n",
    "    gc.collect()\n",
    "    \n",
    "else:\n",
    "    print(\"No qualifying admissions for radiology filter!\")\n",
    "    final_cohort_admissions_w_reports = set()"
   ]
  },
  {
   "cell_type": "markdown",
   "metadata": {},
   "source": [
    "## Step 7: Create Final Cohort Dataset"
   ]
  },
  {
   "cell_type": "code",
   "execution_count": 20,
   "metadata": {},
   "outputs": [
    {
     "name": "stdout",
     "output_type": "stream",
     "text": [
      "\n",
      "=== FINAL COHORT CREATED ===\n",
      "Total admissions: 18,857\n",
      "Length admissions: 21,590\n",
      "Unique patients: 17,500\n"
     ]
    }
   ],
   "source": [
    "if len(final_cohort_admissions_w_reports) > 0:\n",
    "    # Filter to final cohort (vectorized)\n",
    "    final_cohort = adult_icu_admissions[\n",
    "        adult_icu_admissions['hadm_id'].isin(final_cohort_admissions_w_reports)\n",
    "    ].copy()\n",
    "    \n",
    "    # Add derived variables (vectorized)\n",
    "    final_cohort['admission_dttm'] = final_cohort['admittime']\n",
    "    final_cohort['discharge_dttm'] = final_cohort['dischtime']\n",
    "    final_cohort['mortality'] = final_cohort['hospital_expire_flag']\n",
    "    \n",
    "    # Calculate ICU LOS (vectorized)\n",
    "    final_cohort['icu_los_days'] = (\n",
    "        final_cohort['outtime'] - final_cohort['intime']\n",
    "    ).dt.total_seconds() / (24 * 3600)\n",
    "    \n",
    "    # Add exclusion flags for reference\n",
    "    if 'hf_admissions' in locals():\n",
    "        final_cohort['excluded_hf'] = final_cohort['hadm_id'].isin(hf_admissions)\n",
    "        final_cohort['excluded_pregnancy'] = final_cohort['hadm_id'].isin(pregnancy_admissions)\n",
    "    else:\n",
    "        final_cohort['excluded_hf'] = False\n",
    "        final_cohort['excluded_pregnancy'] = False\n",
    "    \n",
    "    print(f\"\\n=== FINAL COHORT CREATED ===\")\n",
    "    print(f\"Total admissions: {final_cohort['hadm_id'].nunique():,}\")\n",
    "    print(f\"Length admissions: {len(final_cohort):,}\")\n",
    "    print(f\"Unique patients: {final_cohort['subject_id'].nunique():,}\")\n",
    "    \n",
    "else:\n",
    "    final_cohort = pd.DataFrame()\n",
    "    print(\"No final cohort created - insufficient qualifying admissions!\")"
   ]
  },
  {
   "cell_type": "code",
   "execution_count": 21,
   "metadata": {},
   "outputs": [
    {
     "name": "stdout",
     "output_type": "stream",
     "text": [
      "\n",
      "No duplicate stay_ids found\n",
      "\n",
      "=== DUPLICATE HOSPITAL ADMISSIONS FOUND ===\n",
      "Number of duplicate hadm_ids: 2203\n",
      "Total duplicate rows: 4936\n"
     ]
    }
   ],
   "source": [
    "if len(final_cohort) > 0:\n",
    "    # Check for duplicate stay_ids\n",
    "    stay_duplicates = final_cohort[final_cohort.duplicated(subset=['stay_id'], keep=False)]\n",
    "    if len(stay_duplicates) > 0:\n",
    "        print(\"\\n=== DUPLICATE STAYS FOUND ===\")\n",
    "        print(f\"Number of duplicate stay_ids: {len(stay_duplicates['stay_id'].unique())}\")\n",
    "        print(f\"Total duplicate rows: {len(stay_duplicates)}\")\n",
    "    else:\n",
    "        print(\"\\nNo duplicate stay_ids found\")\n",
    "        \n",
    "    # Check for duplicate hadm_ids \n",
    "    hadm_duplicates = final_cohort[final_cohort.duplicated(subset=['hadm_id'], keep=False)]\n",
    "    if len(hadm_duplicates) > 0:\n",
    "        print(\"\\n=== DUPLICATE HOSPITAL ADMISSIONS FOUND ===\") \n",
    "        print(f\"Number of duplicate hadm_ids: {len(hadm_duplicates['hadm_id'].unique())}\")\n",
    "        print(f\"Total duplicate rows: {len(hadm_duplicates)}\")\n",
    "    else:\n",
    "        print(\"\\nNo duplicate hospital admission IDs found\")\n"
   ]
  },
  {
   "cell_type": "markdown",
   "metadata": {},
   "source": [
    "The duplicate hadm_id values in the 01_cohort_definition notebook occur because one hospital \n",
    "admission can have multiple ICU stays. This is a normal part of MIMIC-IV data structure.\n",
    "\n",
    "Here's why this happens:\n",
    "\n",
    "MIMIC-IV Data Structure\n",
    "\n",
    "- hadm_id: Hospital admission (entire hospitalization)\n",
    "- stay_id: Individual ICU stay within that admission\n",
    "\n",
    "Common Scenarios for Multiple ICU Stays per Admission:\n",
    "\n",
    "1. Step-down and readmission: Patient goes ICU → ward → ICU again\n",
    "2. Transfer between ICU types: MICU → SICU → CCU\n",
    "3. Brief interruptions: Short procedures requiring ICU discharge/readmission\n",
    "4. Administrative transfers: Between different ICU units"
   ]
  },
  {
   "cell_type": "markdown",
   "metadata": {},
   "source": [
    "## Step 8: Summary Statistics"
   ]
  },
  {
   "cell_type": "code",
   "execution_count": 23,
   "metadata": {},
   "outputs": [
    {
     "name": "stdout",
     "output_type": "stream",
     "text": [
      "=== COHORT SUMMARY STATISTICS ===\n",
      "\n",
      "📊 Basic Demographics:\n",
      "Total admissions: 21,590\n",
      "Unique patients: 17,500\n",
      "\n",
      "📈 Age at Admission:\n",
      "Mean ± SD: 62.2 ± 16.0 years\n",
      "Median [IQR]: 64.0 [53.0-74.0] years\n",
      "Range: 18-99 years\n",
      "\n",
      "👥 Gender Distribution:\n",
      "M: 13,342 (61.8%)\n",
      "F: 8,248 (38.2%)\n",
      "\n",
      "🏥 Clinical Outcomes:\n",
      "Hospital mortality: 3,641 (16.9%)\n",
      "ICU LOS (days) - Mean ± SD: 4.9 ± 6.5\n",
      "ICU LOS (days) - Median [IQR]: 2.7 [1.4-5.6]\n",
      "\n",
      "🚪 Admission Characteristics:\n",
      "Top admission types:\n",
      "  EW EMER.: 10,123 (46.9%)\n",
      "  URGENT: 4,178 (19.4%)\n",
      "  SURGICAL SAME DAY ADMISSION: 3,257 (15.1%)\n",
      "  OBSERVATION ADMIT: 2,064 (9.6%)\n",
      "  ELECTIVE: 1,084 (5.0%)\n",
      "\n",
      "Top admission locations:\n",
      "  EMERGENCY ROOM: 9,154 (42.4%)\n",
      "  PHYSICIAN REFERRAL: 6,079 (28.2%)\n",
      "  TRANSFER FROM HOSPITAL: 5,085 (23.6%)\n",
      "  PROCEDURE SITE: 317 (1.5%)\n",
      "  WALK-IN/SELF REFERRAL: 307 (1.4%)\n"
     ]
    }
   ],
   "source": [
    "if len(final_cohort) > 0:\n",
    "    print(\"=== COHORT SUMMARY STATISTICS ===\")\n",
    "    \n",
    "    # Basic demographics\n",
    "    print(f\"\\n📊 Basic Demographics:\")\n",
    "    print(f\"Total admissions: {len(final_cohort):,}\")\n",
    "    print(f\"Unique patients: {final_cohort['subject_id'].nunique():,}\")\n",
    "    \n",
    "    # Age distribution\n",
    "    print(f\"\\n📈 Age at Admission:\")\n",
    "    age_stats = final_cohort['age_at_admission'].describe()\n",
    "    print(f\"Mean ± SD: {age_stats['mean']:.1f} ± {age_stats['std']:.1f} years\")\n",
    "    print(f\"Median [IQR]: {age_stats['50%']:.1f} [{age_stats['25%']:.1f}-{age_stats['75%']:.1f}] years\")\n",
    "    print(f\"Range: {age_stats['min']:.0f}-{age_stats['max']:.0f} years\")\n",
    "    \n",
    "    # Gender distribution\n",
    "    print(f\"\\n👥 Gender Distribution:\")\n",
    "    gender_counts = final_cohort['gender'].value_counts()\n",
    "    for gender, count in gender_counts.items():\n",
    "        pct = count / len(final_cohort) * 100\n",
    "        print(f\"{gender}: {count:,} ({pct:.1f}%)\")\n",
    "    \n",
    "    # Clinical outcomes\n",
    "    print(f\"\\n🏥 Clinical Outcomes:\")\n",
    "    mortality_rate = final_cohort['mortality'].mean() * 100\n",
    "    print(f\"Hospital mortality: {final_cohort['mortality'].sum():,} ({mortality_rate:.1f}%)\")\n",
    "    \n",
    "    # ICU length of stay\n",
    "    los_stats = final_cohort['icu_los_days'].describe()\n",
    "    print(f\"ICU LOS (days) - Mean ± SD: {los_stats['mean']:.1f} ± {los_stats['std']:.1f}\")\n",
    "    print(f\"ICU LOS (days) - Median [IQR]: {los_stats['50%']:.1f} [{los_stats['25%']:.1f}-{los_stats['75%']:.1f}]\")\n",
    "    \n",
    "    # Admission characteristics\n",
    "    print(f\"\\n🚪 Admission Characteristics:\")\n",
    "    print(\"Top admission types:\")\n",
    "    adm_type_counts = final_cohort['admission_type'].value_counts().head(5)\n",
    "    for adm_type, count in adm_type_counts.items():\n",
    "        pct = count / len(final_cohort) * 100\n",
    "        print(f\"  {adm_type}: {count:,} ({pct:.1f}%)\")\n",
    "    \n",
    "    print(\"\\nTop admission locations:\")\n",
    "    adm_loc_counts = final_cohort['admission_location'].value_counts().head(5)\n",
    "    for adm_loc, count in adm_loc_counts.items():\n",
    "        pct = count / len(final_cohort) * 100\n",
    "        print(f\"  {adm_loc}: {count:,} ({pct:.1f}%)\")\n",
    "        \n",
    "else:\n",
    "    print(\"❌ No cohort data available for summary statistics!\")"
   ]
  },
  {
   "cell_type": "markdown",
   "metadata": {},
   "source": [
    "## Step 9: Save Final Cohort"
   ]
  },
  {
   "cell_type": "code",
   "execution_count": 26,
   "metadata": {},
   "outputs": [
    {
     "name": "stdout",
     "output_type": "stream",
     "text": [
      "\n",
      "💾 COHORT SAVED SUCCESSFULLY\n",
      "File: /Users/kavenchhikara/Desktop/projects/SCCM/SCCM-Team2/ards_analysis/data/base_cohort_optimized.parquet\n",
      "Size: 2.2 MB\n",
      "Rows: 21,590\n",
      "Columns: 18\n",
      "Summary saved: /Users/kavenchhikara/Desktop/projects/SCCM/SCCM-Team2/ards_analysis/data/cohort_summary.json\n",
      "\n",
      "⏰ Analysis completed at: 2025-07-20 01:36:59.434947\n"
     ]
    }
   ],
   "source": [
    "if len(final_cohort) > 0:\n",
    "    # Define columns to save\n",
    "    save_columns = [\n",
    "        'subject_id', 'hadm_id', 'stay_id',\n",
    "        'admission_dttm', 'discharge_dttm', 'intime', 'outtime',\n",
    "        'age_at_admission', 'gender', 'admission_type',\n",
    "        'admission_location', 'discharge_location', 'insurance',\n",
    "        'marital_status', 'mortality', 'icu_los_days',\n",
    "        'excluded_hf', 'excluded_pregnancy'\n",
    "    ]\n",
    "    \n",
    "    # Save cohort\n",
    "    cohort_file = f'{OUTPUT_PATH}/base_cohort_optimized.parquet'\n",
    "    final_cohort.to_parquet(cohort_file, index=False)\n",
    "    \n",
    "    # Calculate file size\n",
    "    file_size_mb = os.path.getsize(cohort_file) / 1024 / 1024\n",
    "    \n",
    "    print(f\"\\n💾 COHORT SAVED SUCCESSFULLY\")\n",
    "    print(f\"File: {cohort_file}\")\n",
    "    print(f\"Size: {file_size_mb:.1f} MB\")\n",
    "    print(f\"Rows: {len(final_cohort):,}\")\n",
    "    print(f\"Columns: {len(save_columns)}\")\n",
    "    \n",
    "    # Save summary statistics\n",
    "    summary_stats = {\n",
    "        'analysis_date': datetime.now().isoformat(),\n",
    "        'total_admissions': len(final_cohort),\n",
    "        'unique_patients': final_cohort['subject_id'].nunique(),\n",
    "        'mean_age': final_cohort['age_at_admission'].mean(),\n",
    "        'mortality_rate': final_cohort['mortality'].mean(),\n",
    "        'mean_icu_los_days': final_cohort['icu_los_days'].mean(),\n",
    "        'criteria_applied': [\n",
    "            'Adults ≥18 years',\n",
    "            'ICU admission',\n",
    "            'PEEP ≥5 in first 48h',\n",
    "            'S/F ratio <315',\n",
    "            'Radiology reports available',\n",
    "            'No heart failure',\n",
    "            'Not pregnant'\n",
    "        ]\n",
    "    }\n",
    "    \n",
    "    # Save as JSON\n",
    "    import json\n",
    "    summary_file = f'{OUTPUT_PATH}/cohort_summary.json'\n",
    "    with open(summary_file, 'w') as f:\n",
    "        json.dump(summary_stats, f, indent=2, default=str)\n",
    "    \n",
    "    print(f\"Summary saved: {summary_file}\")\n",
    "    \n",
    "else:\n",
    "    print(\"❌ No cohort to save!\")\n",
    "\n",
    "print(f\"\\n⏰ Analysis completed at: {datetime.now()}\")"
   ]
  },
  {
   "cell_type": "markdown",
   "metadata": {},
   "source": [
    "## Next Steps\n",
    "\n",
    "✅ **Cohort successfully defined with optimized vectorized operations!**\n",
    "\n",
    "### Final cohort criteria:\n",
    "- Adults ≥18 years with ICU admission\n",
    "- PEEP ≥ 5 within first 48 hours of ICU admission  \n",
    "- S/F ratio < 315 at least once\n",
    "- At least one radiology report available\n",
    "- No heart failure diagnosis\n",
    "- Not pregnant\n",
    "\n",
    "### Performance optimizations applied:\n",
    "- Single-pass data loading where possible\n",
    "- Vectorized pandas operations throughout\n",
    "- Memory-efficient processing with immediate cleanup\n",
    "- Efficient time-based matching using `merge_asof`\n",
    "- Set operations for fast filtering\n",
    "\n",
    "### Next notebooks:\n",
    "1. **ARDS identification** using Berlin criteria\n",
    "2. **Proning event extraction** from nursing documentation\n",
    "3. **Neuromuscular blockade extraction** with timing analysis\n",
    "4. **Statistical modeling** and outcome analysis"
   ]
  }
 ],
 "metadata": {
  "kernelspec": {
   "display_name": ".venv",
   "language": "python",
   "name": "python3"
  },
  "language_info": {
   "codemirror_mode": {
    "name": "ipython",
    "version": 3
   },
   "file_extension": ".py",
   "mimetype": "text/x-python",
   "name": "python",
   "nbconvert_exporter": "python",
   "pygments_lexer": "ipython3",
   "version": "3.13.2"
  }
 },
 "nbformat": 4,
 "nbformat_minor": 4
}
