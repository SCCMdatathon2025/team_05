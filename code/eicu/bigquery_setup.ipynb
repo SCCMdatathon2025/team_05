{
 "cells": [
  {
   "cell_type": "markdown",
   "metadata": {},
   "source": [
    "# BigQuery Setup for MIMIC-IV Access\n",
    "\n",
    "This notebook guides you through setting up BigQuery API to access MIMIC-IV datasets for the ARDS research project."
   ]
  },
  {
   "cell_type": "markdown",
   "metadata": {},
   "source": [
    "## 1. Prerequisites\n",
    "\n",
    "Before running this notebook, ensure you have:\n",
    "1. Access to MIMIC-IV on PhysioNet\n",
    "2. Linked your PhysioNet account to Google Cloud BigQuery\n",
    "3. A Google Cloud Project with BigQuery API enabled\n",
    "\n",
    "### Steps to link PhysioNet to BigQuery:\n",
    "1. Go to https://physionet.org/content/mimiciv/\n",
    "2. Sign the data use agreement\n",
    "3. Link to BigQuery following PhysioNet instructions"
   ]
  },
  {
   "cell_type": "markdown",
   "metadata": {},
   "source": [
    "## 2. Install Required Libraries"
   ]
  },
  {
   "cell_type": "code",
   "execution_count": 1,
   "metadata": {},
   "outputs": [],
   "source": [
    "# !pip install google-cloud-bigquery pandas pyarrow db-dtypes"
   ]
  },
  {
   "cell_type": "markdown",
   "metadata": {},
   "source": [
    "## 3. Authentication Setup\n",
    "\n",
    "### Option A: Using Google Cloud CLI (Recommended for local development)"
   ]
  },
  {
   "cell_type": "code",
   "execution_count": 42,
   "metadata": {},
   "outputs": [],
   "source": [
    "# First, authenticate via terminal:\n",
    "# gcloud auth application-default login\n",
    "\n",
    "# Then set your project ID\n",
    "import os\n",
    "os.environ['GOOGLE_CLOUD_PROJECT'] = 'sccm2025'  # Replace with your GCP project ID"
   ]
  },
  {
   "cell_type": "markdown",
   "metadata": {},
   "source": [
    "## 4. Initialize BigQuery Client"
   ]
  },
  {
   "cell_type": "code",
   "execution_count": 43,
   "metadata": {},
   "outputs": [
    {
     "name": "stderr",
     "output_type": "stream",
     "text": [
      "/Users/kavenchhikara/Desktop/projects/SCCM/SCCM-Team2/.venv/lib/python3.13/site-packages/google/auth/_default.py:76: UserWarning: Your application has authenticated using end user credentials from Google Cloud SDK without a quota project. You might receive a \"quota exceeded\" or \"API not enabled\" error. See the following page for troubleshooting: https://cloud.google.com/docs/authentication/adc-troubleshooting/user-creds. \n",
      "  warnings.warn(_CLOUD_SDK_CREDENTIALS_WARNING)\n"
     ]
    },
    {
     "name": "stdout",
     "output_type": "stream",
     "text": [
      "Connected to project: sccm2025\n"
     ]
    }
   ],
   "source": [
    "from google.cloud import bigquery\n",
    "import pandas as pd\n",
    "\n",
    "# Initialize the client\n",
    "client = bigquery.Client()\n",
    "\n",
    "# Verify connection\n",
    "print(f\"Connected to project: {client.project}\")"
   ]
  },
  {
   "cell_type": "markdown",
   "metadata": {},
   "source": [
    "## 5. MIMIC-IV Dataset Configuration"
   ]
  },
  {
   "cell_type": "code",
   "execution_count": 44,
   "metadata": {},
   "outputs": [
    {
     "name": "stderr",
     "output_type": "stream",
     "text": [
      "/Users/kavenchhikara/Desktop/projects/SCCM/SCCM-Team2/.venv/lib/python3.13/site-packages/google/auth/_default.py:76: UserWarning: Your application has authenticated using end user credentials from Google Cloud SDK without a quota project. You might receive a \"quota exceeded\" or \"API not enabled\" error. See the following page for troubleshooting: https://cloud.google.com/docs/authentication/adc-troubleshooting/user-creds. \n",
      "  warnings.warn(_CLOUD_SDK_CREDENTIALS_WARNING)\n"
     ]
    },
    {
     "name": "stdout",
     "output_type": "stream",
     "text": [
      "admissiondrug\n",
      "admissiondx\n",
      "allergy\n",
      "apacheapsvar\n",
      "apachepatientresults\n",
      "apachepredvar\n",
      "careplancareprovider\n",
      "careplaneol\n",
      "careplangeneral\n",
      "careplangoal\n",
      "careplaninfectiousdisease\n",
      "customlab\n",
      "diagnosis\n",
      "hospital\n",
      "infusiondrug\n",
      "intakeoutput\n",
      "lab\n",
      "medication\n",
      "microlab\n",
      "nurseassessment\n",
      "nursecare\n",
      "nursecharting\n",
      "pasthistory\n",
      "patient\n",
      "physicalexam\n",
      "respiratorycare\n",
      "respiratorycharting\n",
      "treatment\n",
      "vitalaperiodic\n",
      "vitalperiodic\n"
     ]
    }
   ],
   "source": [
    "# MIMIC-IV BigQuery dataset IDs\n",
    "# MIMIC_PROJECT = \"physionet-data\"\n",
    "# MIMIC_DATASET = \"mimiciv_hosp\"\n",
    "# MIMIC_ICU_DATASET = \"mimiciv_icu\"\n",
    "# MIMIC_NOTE_DATASET = \"mimiciv_note\"\n",
    "client = bigquery.Client()\n",
    "\n",
    "dataset_id = \"sccm-discovery.eicu_crd_ii_v0_2_0\"\n",
    "tables = client.list_tables(dataset_id)\n",
    "\n",
    "for table in tables:\n",
    "    print(table.table_id)"
   ]
  },
  {
   "cell_type": "markdown",
   "metadata": {},
   "source": [
    "## 6. Test Connection with Sample Queries"
   ]
  },
  {
   "cell_type": "code",
   "execution_count": 45,
   "metadata": {},
   "outputs": [
    {
     "name": "stderr",
     "output_type": "stream",
     "text": [
      "/Users/kavenchhikara/Desktop/projects/SCCM/SCCM-Team2/.venv/lib/python3.13/site-packages/google/cloud/bigquery/table.py:1965: UserWarning: BigQuery Storage module not found, fetch data with the REST endpoint instead.\n",
      "  warnings.warn(\n"
     ]
    },
    {
     "name": "stdout",
     "output_type": "stream",
     "text": [
      "   patientunitstayid  patienthealthsystemstayid  gender   age ethnicity  \\\n",
      "0           12345218                   10425393  Female    54      None   \n",
      "1           12267112                   10355358  Female    81      None   \n",
      "2           12349649                   10429309  Female    89      None   \n",
      "3           12380841                   10457220  Female    54      None   \n",
      "4           12237114                   10328459    Male  > 89      None   \n",
      "\n",
      "   hospitalid   wardid apacheadmissiondx  admissionheight  hospitaladmityear  \\\n",
      "0     2000967  2002430              None              NaN               2017   \n",
      "1     2000967  2002430              None              NaN               2017   \n",
      "2     2000967  2002430              None              NaN               2017   \n",
      "3     2000967  2002430              None              NaN               2017   \n",
      "4     2000967  2002430              None              NaN               2017   \n",
      "\n",
      "   ... unitstaytype admissionweight  dischargeweight unitdischargeyear  \\\n",
      "0  ...        admit             NaN              NaN              2017   \n",
      "1  ...        admit             NaN              NaN              2017   \n",
      "2  ...        admit             NaN              NaN              2017   \n",
      "3  ...        admit             NaN              NaN              2017   \n",
      "4  ...        admit             NaN              NaN              2017   \n",
      "\n",
      "        unitdischargetime24 unitdischargetime unitdischargeoffset  \\\n",
      "0 1970-01-01 14:56:00+00:00             night                  33   \n",
      "1 1970-01-01 17:56:00+00:00          midnight                  36   \n",
      "2 1970-01-01 09:33:00+00:00           evening                  90   \n",
      "3 1970-01-01 15:55:00+00:00             night                  41   \n",
      "4 1970-01-01 17:39:00+00:00          midnight                  71   \n",
      "\n",
      "   unitdischargelocation unitdischargestatus     uniquepid  \n",
      "0                  Other               Alive  2_032-161512  \n",
      "1                  Other               Alive   2_032-31381  \n",
      "2                  Other               Alive   2_032-66031  \n",
      "3                  Other               Alive  2_032-161512  \n",
      "4                  Other               Alive   2_032-42203  \n",
      "\n",
      "[5 rows x 36 columns]\n"
     ]
    }
   ],
   "source": [
    "query = \"\"\"\n",
    "SELECT *\n",
    "FROM `sccm-discovery.eicu_crd_ii_v0_2_0.patient`\n",
    "LIMIT 1000\n",
    "\"\"\"\n",
    "\n",
    "df = client.query(query).to_dataframe()\n",
    "print(df.head())"
   ]
  },
  {
   "cell_type": "markdown",
   "metadata": {},
   "source": [
    "## 7. Explore meds"
   ]
  },
  {
   "cell_type": "code",
   "execution_count": 46,
   "metadata": {},
   "outputs": [
    {
     "name": "stderr",
     "output_type": "stream",
     "text": [
      "/Users/kavenchhikara/Desktop/projects/SCCM/SCCM-Team2/.venv/lib/python3.13/site-packages/google/auth/_default.py:76: UserWarning: Your application has authenticated using end user credentials from Google Cloud SDK without a quota project. You might receive a \"quota exceeded\" or \"API not enabled\" error. See the following page for troubleshooting: https://cloud.google.com/docs/authentication/adc-troubleshooting/user-creds. \n",
      "  warnings.warn(_CLOUD_SDK_CREDENTIALS_WARNING)\n",
      "/Users/kavenchhikara/Desktop/projects/SCCM/SCCM-Team2/.venv/lib/python3.13/site-packages/google/cloud/bigquery/table.py:1965: UserWarning: BigQuery Storage module not found, fetch data with the REST endpoint instead.\n",
      "  warnings.warn(\n"
     ]
    },
    {
     "name": "stdout",
     "output_type": "stream",
     "text": [
      "Medication table columns:\n",
      "           column_name\n",
      "0         medicationid\n",
      "1    patientunitstayid\n",
      "2        drugorderyear\n",
      "3      drugorderoffset\n",
      "4        drugstartyear\n",
      "5      drugstartoffset\n",
      "6      drugivadmixture\n",
      "7   drugordercancelled\n",
      "8             drugname\n",
      "9        drughiclseqno\n",
      "10              dosage\n",
      "11          routeadmin\n",
      "12           frequency\n",
      "13         loadingdose\n",
      "14                 prn\n",
      "15        drugstopyear\n",
      "16      drugstopoffset\n",
      "17                 gtc\n",
      "\n",
      "Infusiondrug table columns:\n",
      "         column_name\n",
      "0     infusiondrugid\n",
      "1  patientunitstayid\n",
      "2       infusionyear\n",
      "3     infusionoffset\n",
      "4           drugname\n",
      "5           drugrate\n",
      "6       infusionrate\n",
      "7         drugamount\n",
      "8      volumeoffluid\n",
      "9      patientweight\n"
     ]
    }
   ],
   "source": [
    "from google.cloud import bigquery\n",
    "client = bigquery.Client()\n",
    "\n",
    "# First, let's identify the column names in the medication and infusiondrug tables\n",
    "query_med_cols = \"\"\"\n",
    "SELECT column_name \n",
    "FROM `sccm-discovery.eicu_crd_ii_v0_2_0.INFORMATION_SCHEMA.COLUMNS`\n",
    "WHERE table_name = 'medication'\n",
    "ORDER BY ordinal_position;\n",
    "\"\"\"\n",
    "\n",
    "query_inf_cols = \"\"\"\n",
    "SELECT column_name\n",
    "FROM `sccm-discovery.eicu_crd_ii_v0_2_0.INFORMATION_SCHEMA.COLUMNS` \n",
    "WHERE table_name = 'infusiondrug'\n",
    "ORDER BY ordinal_position;\n",
    "\"\"\"\n",
    "\n",
    "med_cols = client.query(query_med_cols).to_dataframe()\n",
    "inf_cols = client.query(query_inf_cols).to_dataframe()\n",
    "\n",
    "print(\"Medication table columns:\")\n",
    "print(med_cols)\n",
    "print(\"\\nInfusiondrug table columns:\")\n",
    "print(inf_cols)\n",
    "\n",
    "\n"
   ]
  },
  {
   "cell_type": "code",
   "execution_count": null,
   "metadata": {},
   "outputs": [],
   "source": [
    "# ---- 1. adjust the meds once here -----------------------------------------\n",
    "med_list  = [\"cisatracurium\", \"vecuronium\", \"rocuronium\",\n",
    "             \"atracurium\", \"pancuronium\"]\n",
    "pattern   = \"|\".join(med_list)             # → 'cisatracurium|vecuronium|…'\n",
    "\n",
    "# ---- 2. single SQL that unions medication + infusiondrug -------------------\n",
    "query = f\"\"\"\n",
    "-- Neuromuscular-blocking agents ordered or infused (eICU-CRD v2.0)\n",
    "WITH nmba AS (\n",
    "  -- discrete doses (medication table)\n",
    "  SELECT\n",
    "    patientUnitStayID,\n",
    "    drugName                          AS med_name,\n",
    "    dosage                           AS dose_entered,\n",
    "    routeAdmin                        AS dose_unit,\n",
    "    drugStartOffset                   AS offset_min,\n",
    "    'medication'                      AS source_table\n",
    "  FROM   `sccm-discovery.eicu_crd_ii_v0_2_0.medication`\n",
    "  WHERE  REGEXP_CONTAINS(LOWER(drugName), r'{pattern}')\n",
    "\n",
    "  UNION ALL\n",
    "\n",
    "  -- continuous infusions (infusiondrug table)\n",
    "  SELECT\n",
    "    patientUnitStayID,\n",
    "    drugName                          AS med_name,\n",
    "    infusionRate                      AS dose_entered,\n",
    "    drugRate                          AS dose_unit,\n",
    "    infusionOffset                    AS offset_min,\n",
    "    'infusiondrug'                    AS source_table\n",
    "  FROM   `sccm-discovery.eicu_crd_ii_v0_2_0.infusiondrug`\n",
    "  WHERE  REGEXP_CONTAINS(LOWER(drugName), r'{pattern}')\n",
    ")\n",
    "\n",
    "-- return everything so you can filter downstream in pandas\n",
    "SELECT *\n",
    "FROM   nmba\n",
    "ORDER  BY patientUnitStayID, offset_min;\n",
    "\"\"\"\n",
    "\n",
    "df = client.query(query).to_dataframe()\n",
    "df.head()"
   ]
  },
  {
   "cell_type": "markdown",
   "metadata": {},
   "source": [
    "## ICD codes"
   ]
  },
  {
   "cell_type": "code",
   "execution_count": 15,
   "metadata": {},
   "outputs": [
    {
     "name": "stderr",
     "output_type": "stream",
     "text": [
      "/Users/kavenchhikara/Desktop/projects/SCCM/SCCM-Team2/.venv/lib/python3.13/site-packages/google/cloud/bigquery/table.py:1965: UserWarning: BigQuery Storage module not found, fetch data with the REST endpoint instead.\n",
      "  warnings.warn(\n"
     ]
    },
    {
     "data": {
      "text/html": [
       "<div>\n",
       "<style scoped>\n",
       "    .dataframe tbody tr th:only-of-type {\n",
       "        vertical-align: middle;\n",
       "    }\n",
       "\n",
       "    .dataframe tbody tr th {\n",
       "        vertical-align: top;\n",
       "    }\n",
       "\n",
       "    .dataframe thead th {\n",
       "        text-align: right;\n",
       "    }\n",
       "</style>\n",
       "<table border=\"1\" class=\"dataframe\">\n",
       "  <thead>\n",
       "    <tr style=\"text-align: right;\">\n",
       "      <th></th>\n",
       "      <th>diagnosisid</th>\n",
       "      <th>patientunitstayid</th>\n",
       "      <th>diagnosisyear</th>\n",
       "      <th>diagnosisoffset</th>\n",
       "      <th>diagnosisstring</th>\n",
       "      <th>activeupondischarge</th>\n",
       "      <th>icd9code</th>\n",
       "      <th>diagnosispriority</th>\n",
       "    </tr>\n",
       "  </thead>\n",
       "  <tbody>\n",
       "    <tr>\n",
       "      <th>0</th>\n",
       "      <td>104227212</td>\n",
       "      <td>11227959</td>\n",
       "      <td>2020</td>\n",
       "      <td>477</td>\n",
       "      <td>neurologic|trauma - CNS|intracranial injury</td>\n",
       "      <td>False</td>\n",
       "      <td>removed: not cleared</td>\n",
       "      <td>Other</td>\n",
       "    </tr>\n",
       "    <tr>\n",
       "      <th>1</th>\n",
       "      <td>104223922</td>\n",
       "      <td>11227959</td>\n",
       "      <td>2020</td>\n",
       "      <td>4775</td>\n",
       "      <td>pulmonary|respiratory failure|acute respirator...</td>\n",
       "      <td>False</td>\n",
       "      <td>518.81, J96.00</td>\n",
       "      <td>Other</td>\n",
       "    </tr>\n",
       "    <tr>\n",
       "      <th>2</th>\n",
       "      <td>104227184</td>\n",
       "      <td>11227959</td>\n",
       "      <td>2020</td>\n",
       "      <td>4775</td>\n",
       "      <td>neurologic|trauma - CNS|intracranial injury</td>\n",
       "      <td>False</td>\n",
       "      <td>removed: not cleared</td>\n",
       "      <td>Other</td>\n",
       "    </tr>\n",
       "    <tr>\n",
       "      <th>3</th>\n",
       "      <td>104227163</td>\n",
       "      <td>11227959</td>\n",
       "      <td>2020</td>\n",
       "      <td>6057</td>\n",
       "      <td>neurologic|trauma - CNS|intracranial injury</td>\n",
       "      <td>True</td>\n",
       "      <td>removed: not cleared</td>\n",
       "      <td>Other</td>\n",
       "    </tr>\n",
       "    <tr>\n",
       "      <th>4</th>\n",
       "      <td>104224563</td>\n",
       "      <td>11227959</td>\n",
       "      <td>2020</td>\n",
       "      <td>6057</td>\n",
       "      <td>pulmonary|respiratory failure|acute respirator...</td>\n",
       "      <td>True</td>\n",
       "      <td>518.81, J96.00</td>\n",
       "      <td>Other</td>\n",
       "    </tr>\n",
       "  </tbody>\n",
       "</table>\n",
       "</div>"
      ],
      "text/plain": [
       "   diagnosisid  patientunitstayid  diagnosisyear  diagnosisoffset  \\\n",
       "0    104227212           11227959           2020              477   \n",
       "1    104223922           11227959           2020             4775   \n",
       "2    104227184           11227959           2020             4775   \n",
       "3    104227163           11227959           2020             6057   \n",
       "4    104224563           11227959           2020             6057   \n",
       "\n",
       "                                     diagnosisstring  activeupondischarge  \\\n",
       "0        neurologic|trauma - CNS|intracranial injury                False   \n",
       "1  pulmonary|respiratory failure|acute respirator...                False   \n",
       "2        neurologic|trauma - CNS|intracranial injury                False   \n",
       "3        neurologic|trauma - CNS|intracranial injury                 True   \n",
       "4  pulmonary|respiratory failure|acute respirator...                 True   \n",
       "\n",
       "               icd9code diagnosispriority  \n",
       "0  removed: not cleared             Other  \n",
       "1        518.81, J96.00             Other  \n",
       "2  removed: not cleared             Other  \n",
       "3  removed: not cleared             Other  \n",
       "4        518.81, J96.00             Other  "
      ]
     },
     "execution_count": 15,
     "metadata": {},
     "output_type": "execute_result"
    }
   ],
   "source": [
    "query = \"\"\"\n",
    "-- Get diagnosis codes from eICU-CRD v2.0\n",
    "SELECT \n",
    "    *\n",
    "FROM `sccm-discovery.eicu_crd_ii_v0_2_0.diagnosis`\n",
    "ORDER BY patientUnitStayID, diagnosisOffset\n",
    "LIMIT 10;\n",
    "\"\"\"\n",
    "\n",
    "# Execute query and display first few rows\n",
    "df_dx = client.query(query).to_dataframe()\n",
    "df_dx.head()"
   ]
  },
  {
   "cell_type": "markdown",
   "metadata": {},
   "source": []
  },
  {
   "cell_type": "markdown",
   "metadata": {},
   "source": [
    "## 8. eICU-CRD ARDS Cohort Analysis with PEEP Criteria - STROBE Flow\n",
    "\n",
    "This section implements the ARDS cohort identification from eICU-CRD v2.0 with BigQuery connectivity.\n",
    "The analysis follows these inclusion/exclusion steps with numbers for STROBE diagram:\n",
    "\n",
    "### STROBE Flow Criteria:\n",
    "1. **Adult >18** \n",
    "2. **At least one ICU admission**\n",
    "3. **PEEP >= 5 within 48 hours of hospital admission**\n",
    "4. **S/F ratio < 315**\n",
    "5. **No heart failure and not pregnant**"
   ]
  },
  {
   "cell_type": "markdown",
   "metadata": {},
   "source": [
    "### Step 1: Load All Patients and Apply Adult Filter (≥18 years)"
   ]
  },
  {
   "cell_type": "code",
   "execution_count": 48,
   "metadata": {},
   "outputs": [
    {
     "name": "stderr",
     "output_type": "stream",
     "text": [
      "/Users/kavenchhikara/Desktop/projects/SCCM/SCCM-Team2/.venv/lib/python3.13/site-packages/google/auth/_default.py:76: UserWarning: Your application has authenticated using end user credentials from Google Cloud SDK without a quota project. You might receive a \"quota exceeded\" or \"API not enabled\" error. See the following page for troubleshooting: https://cloud.google.com/docs/authentication/adc-troubleshooting/user-creds. \n",
      "  warnings.warn(_CLOUD_SDK_CREDENTIALS_WARNING)\n"
     ]
    },
    {
     "name": "stdout",
     "output_type": "stream",
     "text": [
      "=== ARDS COHORT WITH PEEP CRITERIA - STROBE FLOW ===\n",
      "NMB = Neuromuscular Blockade (paralytic drugs)\n",
      "Adding PEEP ≥ 5 cmH2O criteria to ARDS definition...\n",
      "Tracking numbers for STROBE diagram...\n"
     ]
    }
   ],
   "source": [
    "import pandas as pd\n",
    "import numpy as np\n",
    "from google.cloud import bigquery\n",
    "\n",
    "# Initialize client\n",
    "client = bigquery.Client()\n",
    "\n",
    "print(\"=== ARDS COHORT WITH PEEP CRITERIA - STROBE FLOW ===\")\n",
    "print(\"NMB = Neuromuscular Blockade (paralytic drugs)\")\n",
    "print(\"Adding PEEP ≥ 5 cmH2O criteria to ARDS definition...\")\n",
    "print(\"Tracking numbers for STROBE diagram...\")\n",
    "\n",
    "# Define dataset path\n",
    "DATASET_ID = \"sccm-discovery.eicu_crd_ii_v0_2_0\"\n",
    "\n",
    "# Track STROBE numbers\n",
    "strobe_numbers = {}"
   ]
  },
  {
   "cell_type": "markdown",
   "metadata": {},
   "source": [
    "### Step 2: Identify Exclusions (Pregnancy and Heart Failure)"
   ]
  },
  {
   "cell_type": "code",
   "execution_count": 49,
   "metadata": {},
   "outputs": [
    {
     "name": "stderr",
     "output_type": "stream",
     "text": [
      "/Users/kavenchhikara/Desktop/projects/SCCM/SCCM-Team2/.venv/lib/python3.13/site-packages/google/cloud/bigquery/table.py:1965: UserWarning: BigQuery Storage module not found, fetch data with the REST endpoint instead.\n",
      "  warnings.warn(\n"
     ]
    },
    {
     "data": {
      "text/plain": [
       "patientunitstayid                          Int64\n",
       "patienthealthsystemstayid                  Int64\n",
       "gender                                    object\n",
       "age                                       object\n",
       "ethnicity                                 object\n",
       "hospitalid                                 Int64\n",
       "wardid                                     Int64\n",
       "apacheadmissiondx                         object\n",
       "admissionheight                          float64\n",
       "hospitaladmityear                          Int64\n",
       "hospitaladmittime24          datetime64[us, UTC]\n",
       "hospitaladmittime                         object\n",
       "hospitaladmitoffset                        Int64\n",
       "hospitaladmitsource                       object\n",
       "hospitaldischargeyear                      Int64\n",
       "hospitaldischargetime24      datetime64[us, UTC]\n",
       "hospitaldischargetime                     object\n",
       "hospitaldischargeoffset                    Int64\n",
       "hospitaldischargelocation                 object\n",
       "hospitaldischargestatus                   object\n",
       "unittype                                  object\n",
       "unitadmityear                              Int64\n",
       "unitadmittime24              datetime64[us, UTC]\n",
       "unitadmittime                             object\n",
       "unitadmitsource                           object\n",
       "unitvisitnumber                            Int64\n",
       "unitstaytype                              object\n",
       "admissionweight                          float64\n",
       "dischargeweight                          float64\n",
       "unitdischargeyear                          Int64\n",
       "unitdischargetime24          datetime64[us, UTC]\n",
       "unitdischargetime                         object\n",
       "unitdischargeoffset                        Int64\n",
       "unitdischargelocation                     object\n",
       "unitdischargestatus                       object\n",
       "uniquepid                                 object\n",
       "dtype: object"
      ]
     },
     "execution_count": 49,
     "metadata": {},
     "output_type": "execute_result"
    }
   ],
   "source": [
    "query_patients = f\"\"\"\n",
    "SELECT \n",
    "    *\n",
    "FROM `{DATASET_ID}.patient`\n",
    "LIMIT 10\n",
    "\"\"\"\n",
    "\n",
    "patient_df = client.query(query_patients).to_dataframe()\n",
    "patient_df.dtypes"
   ]
  },
  {
   "cell_type": "code",
   "execution_count": 50,
   "metadata": {},
   "outputs": [
    {
     "name": "stdout",
     "output_type": "stream",
     "text": [
      "\n",
      "--- STEP 1: LOADING ALL PATIENTS ---\n"
     ]
    },
    {
     "name": "stderr",
     "output_type": "stream",
     "text": [
      "/Users/kavenchhikara/Desktop/projects/SCCM/SCCM-Team2/.venv/lib/python3.13/site-packages/google/cloud/bigquery/table.py:1965: UserWarning: BigQuery Storage module not found, fetch data with the REST endpoint instead.\n",
      "  warnings.warn(\n"
     ]
    },
    {
     "name": "stdout",
     "output_type": "stream",
     "text": [
      "Total population in database: 201,727\n",
      "Adult patients (≥18 years): 201,537\n",
      "Valid adult patients: 194,826\n"
     ]
    }
   ],
   "source": [
    "# Step 1: Total population and Adult patients (≥18 years)\n",
    "print(\"\\n--- STEP 1: LOADING ALL PATIENTS ---\")\n",
    "\n",
    "# First get total population\n",
    "query_total = f\"\"\"\n",
    "SELECT COUNT(*) as total_patients\n",
    "FROM `{DATASET_ID}.patient`\n",
    "\"\"\"\n",
    "\n",
    "total_result = client.query(query_total).to_dataframe()\n",
    "strobe_numbers['total_population'] = int(total_result['total_patients'].iloc[0])\n",
    "print(f\"Total population in database: {strobe_numbers['total_population']:,}\")\n",
    "\n",
    "# Then get adults\n",
    "query_adults = f\"\"\"\n",
    "WITH cleaned AS (\n",
    "  SELECT \n",
    "    patientunitstayid,\n",
    "    age,\n",
    "    gender,\n",
    "    ethnicity,\n",
    "    unitdischargestatus,\n",
    "    hospitaladmityear,\n",
    "    unitdischargeyear,\n",
    "    hospitaldischargeyear,\n",
    "    admissionheight,\n",
    "    admissionweight,\n",
    "    CASE \n",
    "        WHEN REGEXP_CONTAINS(age, r'^[0-9]+$') THEN CAST(age AS FLOAT64)\n",
    "        WHEN REGEXP_CONTAINS(age, r'([0-9]+)') THEN CAST(REGEXP_EXTRACT(age, r'([0-9]+)') AS FLOAT64)\n",
    "        ELSE NULL \n",
    "    END AS age_numeric\n",
    "  FROM `{DATASET_ID}.patient`\n",
    ")\n",
    "SELECT *\n",
    "FROM cleaned\n",
    "WHERE age_numeric >= 18\n",
    "\"\"\"\n",
    "\n",
    "patient_df = client.query(query_adults).to_dataframe()\n",
    "strobe_numbers['adult_patients'] = len(patient_df)\n",
    "print(f\"Adult patients (≥18 years): {strobe_numbers['adult_patients']:,}\")\n",
    "\n",
    "# Convert age to numeric for further analysis\n",
    "patient_df['age_numeric'] = pd.to_numeric(patient_df['age'], errors='coerce')\n",
    "patient_df = patient_df[patient_df['age_numeric'] >= 18].copy()\n",
    "strobe_numbers['valid_adults'] = len(patient_df)\n",
    "print(f\"Valid adult patients: {strobe_numbers['valid_adults']:,}\")"
   ]
  },
  {
   "cell_type": "markdown",
   "metadata": {},
   "source": [
    "### Step 3: Identify ARDS Patients by ICD Codes and Diagnosis Strings"
   ]
  },
  {
   "cell_type": "code",
   "execution_count": 51,
   "metadata": {},
   "outputs": [
    {
     "name": "stdout",
     "output_type": "stream",
     "text": [
      "\n",
      "--- STEP 2: IDENTIFYING EXCLUSIONS ---\n",
      "Excluded patients: 8,472\n",
      "  - Pregnant: 303\n",
      "  - Heart failure: 8,178\n"
     ]
    }
   ],
   "source": [
    "# Step 2: Exclusions - Pregnancy and Heart Failure\n",
    "print(\"\\n--- STEP 2: IDENTIFYING EXCLUSIONS ---\")\n",
    "\n",
    "# Get diagnosis data for exclusions\n",
    "query_exclusions = f\"\"\"\n",
    "SELECT \n",
    "    patientunitstayid,\n",
    "    icd9code,\n",
    "    diagnosisstring\n",
    "FROM `{DATASET_ID}.diagnosis`\n",
    "WHERE \n",
    "    -- Pregnancy codes\n",
    "    (REGEXP_CONTAINS(icd9code, r'V22|V23|V24|630|631|632|633|634|635|636|637|638|639|640|641|642|643|644|645|646|647|648|649|650|651|652|653|654|655|656|657|658|659')\n",
    "    OR REGEXP_CONTAINS(LOWER(diagnosisstring), r'pregnan|gravid|maternity|obstetric|delivery|labor|gestation'))\n",
    "    OR\n",
    "    -- Heart failure codes  \n",
    "    (REGEXP_CONTAINS(icd9code, r'398.91|402.01|402.11|402.91|404.01|404.03|404.11|404.13|404.91|404.93|428|I50|I11.0|I13.0|I13.2')\n",
    "    OR REGEXP_CONTAINS(LOWER(diagnosisstring), r'heart failure|cardiac failure|congestive heart|CHF|systolic.*failure|diastolic.*failure'))\n",
    "\"\"\"\n",
    "\n",
    "exclusion_df = client.query(query_exclusions).to_dataframe()\n",
    "\n",
    "# Identify pregnant patients\n",
    "pregnant_patients = exclusion_df[\n",
    "    exclusion_df['icd9code'].str.contains(\n",
    "        'V22|V23|V24|630|631|632|633|634|635|636|637|638|639|640|641|642|643|644|645|646|647|648|649|650|651|652|653|654|655|656|657|658|659', \n",
    "        na=False, regex=True\n",
    "    ) |\n",
    "    exclusion_df['diagnosisstring'].str.contains(\n",
    "        'pregnan|gravid|maternity|obstetric|delivery|labor|gestation', \n",
    "        case=False, na=False, regex=True\n",
    "    )\n",
    "]['patientunitstayid'].unique()\n",
    "\n",
    "# Identify heart failure patients\n",
    "heart_failure_patients = exclusion_df[\n",
    "    exclusion_df['icd9code'].str.contains(\n",
    "        '398.91|402.01|402.11|402.91|404.01|404.03|404.11|404.13|404.91|404.93|428|I50|I11.0|I13.0|I13.2', \n",
    "        na=False, regex=True\n",
    "    ) |\n",
    "    exclusion_df['diagnosisstring'].str.contains(\n",
    "        'heart failure|cardiac failure|congestive heart|CHF|systolic.*failure|diastolic.*failure', \n",
    "        case=False, na=False, regex=True\n",
    "    )\n",
    "]['patientunitstayid'].unique()\n",
    "\n",
    "excluded_patients = set(pregnant_patients) | set(heart_failure_patients)\n",
    "strobe_numbers['pregnant_patients'] = len(pregnant_patients)\n",
    "strobe_numbers['heart_failure_patients'] = len(heart_failure_patients)\n",
    "strobe_numbers['total_excluded'] = len(excluded_patients)\n",
    "\n",
    "print(f\"Excluded patients: {strobe_numbers['total_excluded']:,}\")\n",
    "print(f\"  - Pregnant: {strobe_numbers['pregnant_patients']:,}\")\n",
    "print(f\"  - Heart failure: {strobe_numbers['heart_failure_patients']:,}\")"
   ]
  },
  {
   "cell_type": "markdown",
   "metadata": {},
   "source": [
    "### Step 4: PEEP ≥ 5 cmH2O within 48 hours of admission"
   ]
  },
  {
   "cell_type": "code",
   "execution_count": 52,
   "metadata": {},
   "outputs": [
    {
     "name": "stdout",
     "output_type": "stream",
     "text": [
      "\n",
      "--- STEP 3: IDENTIFYING ARDS BY ICD/DIAGNOSIS ---\n",
      "ARDS by ICD/diagnosis: 24,002 patients\n"
     ]
    }
   ],
   "source": [
    "# Step 3: ARDS by ICD/diagnosis\n",
    "print(\"\\n--- STEP 3: IDENTIFYING ARDS BY ICD/DIAGNOSIS ---\")\n",
    "\n",
    "query_ards_dx = f\"\"\"\n",
    "SELECT DISTINCT\n",
    "    patientunitstayid\n",
    "FROM `{DATASET_ID}.diagnosis`\n",
    "WHERE \n",
    "    icd9code = '518.82'\n",
    "    OR REGEXP_CONTAINS(LOWER(diagnosisstring), r'ARDS|acute respiratory distress|respiratory failure')\n",
    "\"\"\"\n",
    "\n",
    "ards_diagnosis_df = client.query(query_ards_dx).to_dataframe()\n",
    "ards_icd_patients = ards_diagnosis_df['patientunitstayid'].unique()\n",
    "strobe_numbers['ards_by_icd'] = len(ards_icd_patients)\n",
    "\n",
    "print(f\"ARDS by ICD/diagnosis: {strobe_numbers['ards_by_icd']:,} patients\")"
   ]
  },
  {
   "cell_type": "markdown",
   "metadata": {},
   "source": [
    "### Step 5: S/F Ratio ≤ 315 Criteria"
   ]
  },
  {
   "cell_type": "code",
   "execution_count": 53,
   "metadata": {},
   "outputs": [],
   "source": [
    "query_peep = f\"\"\"\n",
    "SELECT \n",
    "    *\n",
    "FROM `{DATASET_ID}.respiratorycharting`\n",
    "LIMIT 10\n",
    "\"\"\"\n",
    "\n",
    "peep_df = client.query(query_peep).to_dataframe()"
   ]
  },
  {
   "cell_type": "code",
   "execution_count": 54,
   "metadata": {},
   "outputs": [
    {
     "data": {
      "text/plain": [
       "respchartid              Int64\n",
       "patientunitstayid        Int64\n",
       "respchartyear            Int64\n",
       "respchartoffset          Int64\n",
       "respchartentryyear       Int64\n",
       "respchartentryoffset     Int64\n",
       "respcharttypecat        object\n",
       "respchartvaluelabel     object\n",
       "respchartvalue          object\n",
       "dtype: object"
      ]
     },
     "execution_count": 54,
     "metadata": {},
     "output_type": "execute_result"
    }
   ],
   "source": [
    "peep_df.dtypes"
   ]
  },
  {
   "cell_type": "code",
   "execution_count": 55,
   "metadata": {},
   "outputs": [
    {
     "name": "stdout",
     "output_type": "stream",
     "text": [
      "\n",
      "--- STEP 4: PEEP ≥ 5 cmH2O CRITERIA ---\n"
     ]
    },
    {
     "name": "stderr",
     "output_type": "stream",
     "text": [
      "/Users/kavenchhikara/Desktop/projects/SCCM/SCCM-Team2/.venv/lib/python3.13/site-packages/google/cloud/bigquery/table.py:1965: UserWarning: BigQuery Storage module not found, fetch data with the REST endpoint instead.\n",
      "  warnings.warn(\n"
     ]
    },
    {
     "name": "stdout",
     "output_type": "stream",
     "text": [
      "PEEP measurements in first 48h: 690,871\n",
      "Valid PEEP measurements: 690,871\n",
      "Patients with PEEP ≥ 5 cmH2O: 46,172\n",
      "PEEP statistics: Mean 6.9, Max 30.0\n"
     ]
    }
   ],
   "source": [
    "# Step 4: PEEP ≥ 5 cmH2O criteria within 48 hours\n",
    "print(\"\\n--- STEP 4: PEEP ≥ 5 cmH2O CRITERIA ---\")\n",
    "\n",
    "# Get PEEP values for all patients in first 48 hours (2880 minutes)\n",
    "query_peep = f\"\"\"\n",
    "SELECT \n",
    "    patientunitstayid,\n",
    "    respchartoffset,\n",
    "    SAFE_CAST(respchartvalue AS FLOAT64) AS peep_numeric,\n",
    "    respchartvaluelabel\n",
    "FROM `{DATASET_ID}.respiratorycharting`\n",
    "WHERE \n",
    "    respchartvaluelabel = 'PEEP'\n",
    "    AND respchartoffset >= 0 \n",
    "    AND respchartoffset <= 2880  -- First 48 hours\n",
    "    AND SAFE_CAST(respchartvalue AS FLOAT64) IS NOT NULL\n",
    "    AND SAFE_CAST(respchartvalue AS FLOAT64) BETWEEN 0 AND 30\n",
    "\"\"\"\n",
    "\n",
    "peep_df = client.query(query_peep).to_dataframe()\n",
    "strobe_numbers['peep_measurements'] = len(peep_df)\n",
    "print(f\"PEEP measurements in first 48h: {strobe_numbers['peep_measurements']:,}\")\n",
    "\n",
    "# Calculate patient-level PEEP statistics\n",
    "peep_df_clean = peep_df.dropna(subset=['peep_numeric']).copy()\n",
    "strobe_numbers['valid_peep_measurements'] = len(peep_df_clean)\n",
    "print(f\"Valid PEEP measurements: {strobe_numbers['valid_peep_measurements']:,}\")\n",
    "\n",
    "# Find patients with PEEP ≥ 5\n",
    "peep_summary = peep_df_clean.groupby('patientunitstayid').agg({\n",
    "    'peep_numeric': ['max', 'mean', lambda x: (x >= 5).any()]\n",
    "}).reset_index()\n",
    "\n",
    "peep_summary.columns = ['patientunitstayid', 'max_peep', 'mean_peep', 'peep_ge_5']\n",
    "peep_eligible_patients = peep_summary[peep_summary['peep_ge_5'] == True]['patientunitstayid'].tolist()\n",
    "strobe_numbers['peep_eligible'] = len(peep_eligible_patients)\n",
    "\n",
    "print(f\"Patients with PEEP ≥ 5 cmH2O: {strobe_numbers['peep_eligible']:,}\")\n",
    "print(f\"PEEP statistics: Mean {peep_summary['mean_peep'].mean():.1f}, Max {peep_summary['max_peep'].max():.1f}\")"
   ]
  },
  {
   "cell_type": "code",
   "execution_count": 56,
   "metadata": {},
   "outputs": [
    {
     "name": "stdout",
     "output_type": "stream",
     "text": [
      "\n",
      "--- STEP 5: S/F RATIO ≤ 315 CRITERIA ---\n"
     ]
    },
    {
     "name": "stderr",
     "output_type": "stream",
     "text": [
      "/Users/kavenchhikara/Desktop/projects/SCCM/SCCM-Team2/.venv/lib/python3.13/site-packages/google/cloud/bigquery/table.py:1965: UserWarning: BigQuery Storage module not found, fetch data with the REST endpoint instead.\n",
      "  warnings.warn(\n"
     ]
    },
    {
     "name": "stdout",
     "output_type": "stream",
     "text": [
      "S/F ratio calculations: 437,803\n",
      "Patients with S/F ≤ 315: 14,251\n"
     ]
    }
   ],
   "source": [
    "# Step 5: S/F ratio ≤ 315 criteria (within 48 hours)\n",
    "print(\"\\n--- STEP 5: S/F RATIO ≤ 315 CRITERIA ---\")\n",
    "\n",
    "# Get FiO2 and SpO2 data efficiently with BigQuery\n",
    "query_resp_data = f\"\"\"\n",
    "WITH resp_data AS (\n",
    "  SELECT \n",
    "    patientunitstayid,\n",
    "    respchartoffset,\n",
    "    SAFE_CAST(respchartvalue AS FLOAT64) AS resp_value,\n",
    "    respchartvaluelabel\n",
    "  FROM `{DATASET_ID}.respiratorycharting`\n",
    "  WHERE \n",
    "    respchartvaluelabel IN ('FiO2', 'SpO2', 'O2 Sat', 'SaO2')\n",
    "    AND respchartoffset BETWEEN 0 AND 2880  -- First 48 hours\n",
    "),\n",
    "fio2_data AS (\n",
    "  SELECT *\n",
    "  FROM resp_data \n",
    "  WHERE respchartvaluelabel = 'FiO2'\n",
    "    AND resp_value BETWEEN 21 AND 100\n",
    "),\n",
    "spo2_data AS (\n",
    "  SELECT *\n",
    "  FROM resp_data\n",
    "  WHERE respchartvaluelabel IN ('SpO2', 'O2 Sat', 'SaO2')\n",
    "    AND resp_value BETWEEN 70 AND 100\n",
    ")\n",
    "\n",
    "-- Calculate S/F ratios by matching closest FiO2 and SpO2 within 60 minutes\n",
    "SELECT \n",
    "  f.patientunitstayid,\n",
    "  f.respchartoffset AS fio2_offset,\n",
    "  f.resp_value AS fio2_value,\n",
    "  s.respchartoffset AS spo2_offset, \n",
    "  s.resp_value AS spo2_value,\n",
    "  (s.resp_value / f.resp_value * 100) AS sf_ratio\n",
    "FROM fio2_data f\n",
    "JOIN spo2_data s \n",
    "  ON f.patientunitstayid = s.patientunitstayid\n",
    "  AND ABS(s.respchartoffset - f.respchartoffset) <= 60\n",
    "\"\"\"\n",
    "\n",
    "sf_df = client.query(query_resp_data).to_dataframe()\n",
    "strobe_numbers['sf_calculations'] = len(sf_df)\n",
    "print(f\"S/F ratio calculations: {strobe_numbers['sf_calculations']:,}\")\n",
    "\n",
    "# Find patients with S/F ≤ 315\n",
    "ards_sf_patients = sf_df[sf_df['sf_ratio'] <= 315]['patientunitstayid'].unique()\n",
    "strobe_numbers['ards_by_sf'] = len(ards_sf_patients)\n",
    "print(f\"Patients with S/F ≤ 315: {strobe_numbers['ards_by_sf']:,}\")"
   ]
  },
  {
   "cell_type": "code",
   "execution_count": 57,
   "metadata": {},
   "outputs": [
    {
     "name": "stdout",
     "output_type": "stream",
     "text": [
      "\n",
      "--- STEP 6: FINAL ARDS COHORT (ALL CRITERIA) ---\n",
      "ARDS criteria overlap:\n",
      "- ICD/Diagnosis: 24,002 patients\n",
      "- S/F ratio ≤ 315: 14,251 patients\n",
      "- PEEP ≥ 5 cmH2O: 46,172 patients\n",
      "- ANY ARDS criteria: 32,989 patients\n",
      "- ARDS + PEEP ≥ 5: 18,658 patients\n",
      "\n",
      "FINAL ARDS COHORT: 16,345 patients\n",
      "✅ Adult (≥18 years)\n",
      "✅ At least one ICU admission (inherent in eICU)\n",
      "✅ ARDS (ICD codes OR S/F ≤ 315)\n",
      "✅ PEEP ≥ 5 cmH2O within 48h\n",
      "✅ No pregnancy/heart failure\n",
      "\n",
      "=== STROBE DIAGRAM NUMBERS ===\n",
      "Total population: 201,727\n",
      "Excluded <18 years: 6,901\n",
      "Adult population: 194,826\n",
      "Excluded no ARDS criteria: 161,837\n",
      "With ARDS criteria: 32,989\n",
      "Excluded no PEEP ≥5: 14,331\n",
      "With ARDS + PEEP: 18,658\n",
      "Excluded pregnancy/HF: 8,472\n",
      "FINAL COHORT: 16,345\n"
     ]
    }
   ],
   "source": [
    "# Step 6: FINAL ARDS COHORT with ALL CRITERIA\n",
    "print(\"\\n--- STEP 6: FINAL ARDS COHORT (ALL CRITERIA) ---\")\n",
    "\n",
    "# Combine all ARDS criteria\n",
    "ards_by_diagnosis = set(ards_icd_patients)\n",
    "ards_by_sf = set(ards_sf_patients)\n",
    "ards_by_peep = set(peep_eligible_patients)\n",
    "\n",
    "print(\"ARDS criteria overlap:\")\n",
    "print(f\"- ICD/Diagnosis: {len(ards_by_diagnosis):,} patients\")\n",
    "print(f\"- S/F ratio ≤ 315: {len(ards_by_sf):,} patients\")  \n",
    "print(f\"- PEEP ≥ 5 cmH2O: {len(ards_by_peep):,} patients\")\n",
    "\n",
    "# Patients meeting ANY ARDS criteria (ICD OR S/F)\n",
    "ards_any_criteria = ards_by_diagnosis | ards_by_sf\n",
    "strobe_numbers['ards_any_criteria'] = len(ards_any_criteria)\n",
    "print(f\"- ANY ARDS criteria: {strobe_numbers['ards_any_criteria']:,} patients\")\n",
    "\n",
    "# Patients meeting ARDS + PEEP criteria\n",
    "ards_with_peep = ards_any_criteria & ards_by_peep\n",
    "strobe_numbers['ards_with_peep'] = len(ards_with_peep)\n",
    "print(f\"- ARDS + PEEP ≥ 5: {strobe_numbers['ards_with_peep']:,} patients\")\n",
    "\n",
    "# Apply adult and exclusion filters\n",
    "adult_patient_ids = set(patient_df['patientunitstayid'])\n",
    "final_cohort_ids = (ards_with_peep & adult_patient_ids) - excluded_patients\n",
    "strobe_numbers['final_cohort'] = len(final_cohort_ids)\n",
    "\n",
    "print(f\"\\nFINAL ARDS COHORT: {strobe_numbers['final_cohort']:,} patients\")\n",
    "print(\"✅ Adult (≥18 years)\")\n",
    "print(\"✅ At least one ICU admission (inherent in eICU)\")\n",
    "print(\"✅ ARDS (ICD codes OR S/F ≤ 315)\")  \n",
    "print(\"✅ PEEP ≥ 5 cmH2O within 48h\")\n",
    "print(\"✅ No pregnancy/heart failure\")\n",
    "\n",
    "# Track excluded by step\n",
    "strobe_numbers['excluded_age'] = strobe_numbers['total_population'] - strobe_numbers['valid_adults']\n",
    "strobe_numbers['excluded_no_ards'] = strobe_numbers['valid_adults'] - strobe_numbers['ards_any_criteria']\n",
    "strobe_numbers['excluded_no_peep'] = strobe_numbers['ards_any_criteria'] - strobe_numbers['ards_with_peep']\n",
    "strobe_numbers['excluded_conditions'] = strobe_numbers['total_excluded']\n",
    "\n",
    "print(f\"\\n=== STROBE DIAGRAM NUMBERS ===\")\n",
    "print(f\"Total population: {strobe_numbers['total_population']:,}\")\n",
    "print(f\"Excluded <18 years: {strobe_numbers['excluded_age']:,}\")\n",
    "print(f\"Adult population: {strobe_numbers['valid_adults']:,}\")\n",
    "print(f\"Excluded no ARDS criteria: {strobe_numbers['excluded_no_ards']:,}\")\n",
    "print(f\"With ARDS criteria: {strobe_numbers['ards_any_criteria']:,}\")\n",
    "print(f\"Excluded no PEEP ≥5: {strobe_numbers['excluded_no_peep']:,}\")\n",
    "print(f\"With ARDS + PEEP: {strobe_numbers['ards_with_peep']:,}\")\n",
    "print(f\"Excluded pregnancy/HF: {strobe_numbers['excluded_conditions']:,}\")\n",
    "print(f\"FINAL COHORT: {strobe_numbers['final_cohort']:,}\")"
   ]
  },
  {
   "cell_type": "code",
   "execution_count": 58,
   "metadata": {},
   "outputs": [
    {
     "name": "stdout",
     "output_type": "stream",
     "text": [
      "\n",
      "=== STEP 7: EXPOSURES IN REFINED COHORT ===\n",
      "NMB patients: 3741/16345 (22.9%)\n",
      "Proning patients: 782/16345 (4.8%)\n",
      "\n",
      "Top NMB drugs in refined cohort:\n",
      "drugname\n",
      "rocuronium                           2087\n",
      "succinylcholine                      1313\n",
      "ROCURONIUM BROMIDE                    385\n",
      "cisatracurium (mcg/kg/min)            258\n",
      "cisatracurium                         252\n",
      "Cisatracurium (mcg/kg/min)             90\n",
      "SUCCINYLCHOLINE                        49\n",
      "Atracurium (mcg/kg/min)                48\n",
      "Cisatracurium IVF Infused (ml/hr)      44\n",
      "Rocuronium (mcg/kg/min)                33\n",
      "Name: count, dtype: int64\n",
      "\n",
      "Proning entries found: 782 patients\n"
     ]
    }
   ],
   "source": [
    "# Step 7: EXPOSURES ANALYSIS WITH REFINED COHORT\n",
    "print(\"\\n=== STEP 7: EXPOSURES IN REFINED COHORT ===\")\n",
    "\n",
    "# Convert final_cohort_ids to list for BigQuery\n",
    "final_cohort_list = list(final_cohort_ids)\n",
    "final_cohort_list = [int(x) for x in final_cohort_ids]\n",
    "\n",
    "# Proning search using BigQuery\n",
    "query_prone = f\"\"\"\n",
    "SELECT DISTINCT patientunitstayid, cplitemvalue\n",
    "FROM `{DATASET_ID}.careplangeneral`\n",
    "WHERE patientunitstayid IN UNNEST(@cohort_ids)\n",
    "  AND REGEXP_CONTAINS(LOWER(cplitemvalue), r'prone|proning|position|turn|reposit|Turn/ROM')\n",
    "\"\"\"\n",
    "\n",
    "job_config = bigquery.QueryJobConfig(\n",
    "    query_parameters=[\n",
    "        bigquery.ArrayQueryParameter(\"cohort_ids\", \"INT64\", final_cohort_list)\n",
    "    ]\n",
    ")\n",
    "\n",
    "prone_df = client.query(query_prone, job_config=job_config).to_dataframe()\n",
    "prone_patients = set(prone_df['patientunitstayid'].unique()) if len(prone_df) > 0 else set()\n",
    "strobe_numbers['prone_patients'] = len(prone_patients)\n",
    "\n",
    "# NMB search using BigQuery (from provided drug list)\n",
    "nmb_drugs = ['cisatracurium', 'vecuronium', 'rocuronium', 'atracurium', 'succinylcholine', 'pancuronium']\n",
    "nmb_pattern = '|'.join(nmb_drugs)\n",
    "\n",
    "query_nmb = f\"\"\"\n",
    "-- Neuromuscular blockade from medication table\n",
    "SELECT DISTINCT patientunitstayid, drugname, 'medication' as source\n",
    "FROM `{DATASET_ID}.medication`\n",
    "WHERE patientunitstayid IN UNNEST(@cohort_ids)\n",
    "  AND REGEXP_CONTAINS(LOWER(drugname), r'{nmb_pattern}')\n",
    "\n",
    "UNION ALL\n",
    "\n",
    "-- Neuromuscular blockade from infusiondrug table  \n",
    "SELECT DISTINCT patientunitstayid, drugname, 'infusiondrug' as source\n",
    "FROM `{DATASET_ID}.infusiondrug`\n",
    "WHERE patientunitstayid IN UNNEST(@cohort_ids)\n",
    "  AND REGEXP_CONTAINS(LOWER(drugname), r'{nmb_pattern}')\n",
    "\"\"\"\n",
    "\n",
    "nmb_df = client.query(query_nmb, job_config=job_config).to_dataframe()\n",
    "nmb_patients = set(nmb_df['patientunitstayid'].unique()) if len(nmb_df) > 0 else set()\n",
    "strobe_numbers['nmb_patients'] = len(nmb_patients)\n",
    "\n",
    "print(f\"NMB patients: {strobe_numbers['nmb_patients']}/{strobe_numbers['final_cohort']} ({strobe_numbers['nmb_patients']/strobe_numbers['final_cohort']*100:.1f}%)\")\n",
    "print(f\"Proning patients: {strobe_numbers['prone_patients']}/{strobe_numbers['final_cohort']} ({strobe_numbers['prone_patients']/strobe_numbers['final_cohort']*100:.1f}%)\")\n",
    "\n",
    "if len(nmb_df) > 0:\n",
    "    print(f\"\\nTop NMB drugs in refined cohort:\")\n",
    "    print(nmb_df['drugname'].value_counts().head(10))\n",
    "\n",
    "if len(prone_df) > 0:\n",
    "    print(f\"\\nProning entries found: {len(prone_df)} patients\")"
   ]
  },
  {
   "cell_type": "code",
   "execution_count": 59,
   "metadata": {},
   "outputs": [
    {
     "name": "stdout",
     "output_type": "stream",
     "text": [
      "\n",
      "=== STEP 8: OUTCOMES ANALYSIS AND RESEARCH FEASIBILITY ===\n",
      "Cohort outcomes:\n",
      "- ICU mortality: 3939/16345 (24.1%)\n",
      "- Mean age: 62.4 years\n",
      "\n",
      "=== RESEARCH FEASIBILITY WITH PEEP CRITERIA ===\n",
      "Total patients with exposures: 4523\n",
      "✅ Potentially feasible for descriptive analysis\n",
      "\n",
      "Recommendation based on 16,345 ARDS patients:\n",
      "✅ Good ARDS cohort size for analysis\n",
      "\n",
      "=== NEXT STEPS ===\n",
      "1. Review refined cohort characteristics\n",
      "2. Extract timing variables for exposures\n",
      "3. Prepare outcome analysis with available sample\n",
      "4. Consider whether PEEP criteria improves study quality\n",
      "\n",
      "=== FINAL COHORT SUMMARY FOR STROBE ===\n",
      "Total ARDS patients: 16,345\n",
      "With NMB exposure: 3741\n",
      "With proning exposure: 782\n",
      "ICU mortality rate: 24.1%\n",
      "\n",
      "=== COMPLETE STROBE FLOW NUMBERS ===\n",
      "total_population: 201,727\n",
      "adult_patients: 201,537\n",
      "valid_adults: 194,826\n",
      "pregnant_patients: 303\n",
      "heart_failure_patients: 8,178\n",
      "total_excluded: 8,472\n",
      "ards_by_icd: 24,002\n",
      "peep_measurements: 690,871\n",
      "valid_peep_measurements: 690,871\n",
      "peep_eligible: 46,172\n",
      "sf_calculations: 437,803\n",
      "ards_by_sf: 14,251\n",
      "ards_any_criteria: 32,989\n",
      "ards_with_peep: 18,658\n",
      "final_cohort: 16,345\n",
      "excluded_age: 6,901\n",
      "excluded_no_ards: 161,837\n",
      "excluded_no_peep: 14,331\n",
      "excluded_conditions: 8,472\n",
      "prone_patients: 782\n",
      "nmb_patients: 3,741\n",
      "mortality: 3939\n",
      "mortality_rate: 24.1\n",
      "total_exposures: 4,523\n"
     ]
    }
   ],
   "source": [
    "# Step 8: OUTCOMES ANALYSIS AND RESEARCH FEASIBILITY\n",
    "print(\"\\n=== STEP 8: OUTCOMES ANALYSIS AND RESEARCH FEASIBILITY ===\")\n",
    "\n",
    "# Get outcomes for final cohort\n",
    "final_cohort_df = patient_df[patient_df['patientunitstayid'].isin(final_cohort_ids)].copy()\n",
    "mortality = (final_cohort_df['unitdischargestatus'] == 'Expired').sum()\n",
    "strobe_numbers['mortality'] = mortality\n",
    "strobe_numbers['mortality_rate'] = mortality/len(final_cohort_df)*100\n",
    "\n",
    "print(f\"Cohort outcomes:\")\n",
    "print(f\"- ICU mortality: {strobe_numbers['mortality']}/{strobe_numbers['final_cohort']} ({strobe_numbers['mortality_rate']:.1f}%)\")\n",
    "print(f\"- Mean age: {final_cohort_df['age_numeric'].mean():.1f} years\")\n",
    "\n",
    "# Research feasibility analysis\n",
    "total_exposures = strobe_numbers['nmb_patients'] + strobe_numbers['prone_patients']\n",
    "strobe_numbers['total_exposures'] = total_exposures\n",
    "\n",
    "print(f\"\\n=== RESEARCH FEASIBILITY WITH PEEP CRITERIA ===\")\n",
    "print(f\"Total patients with exposures: {strobe_numbers['total_exposures']}\")\n",
    "\n",
    "if total_exposures >= 10:\n",
    "    feasibility = \"✅ Potentially feasible for descriptive analysis\"\n",
    "elif total_exposures >= 5:\n",
    "    feasibility = \"⚠️  Limited but possible case series\"\n",
    "else:\n",
    "    feasibility = \"❌ Too few exposures for meaningful analysis\"\n",
    "\n",
    "print(feasibility)\n",
    "\n",
    "print(f\"\\nRecommendation based on {strobe_numbers['final_cohort']:,} ARDS patients:\")\n",
    "if strobe_numbers['final_cohort'] >= 100:\n",
    "    cohort_assessment = \"✅ Good ARDS cohort size for analysis\"\n",
    "elif strobe_numbers['final_cohort'] >= 50:\n",
    "    cohort_assessment = \"⚠️  Moderate cohort size\"\n",
    "else:\n",
    "    cohort_assessment = \"❌ Small cohort - consider expanding criteria\"\n",
    "\n",
    "print(cohort_assessment)\n",
    "\n",
    "print(f\"\\n=== NEXT STEPS ===\")\n",
    "print(\"1. Review refined cohort characteristics\")\n",
    "print(\"2. Extract timing variables for exposures\")\n",
    "print(\"3. Prepare outcome analysis with available sample\")\n",
    "print(\"4. Consider whether PEEP criteria improves study quality\")\n",
    "\n",
    "print(f\"\\n=== FINAL COHORT SUMMARY FOR STROBE ===\")\n",
    "print(f\"Total ARDS patients: {strobe_numbers['final_cohort']:,}\")\n",
    "print(f\"With NMB exposure: {strobe_numbers['nmb_patients']}\")\n",
    "print(f\"With proning exposure: {strobe_numbers['prone_patients']}\")\n",
    "print(f\"ICU mortality rate: {strobe_numbers['mortality_rate']:.1f}%\")\n",
    "\n",
    "# Export STROBE numbers for diagram creation\n",
    "print(f\"\\n=== COMPLETE STROBE FLOW NUMBERS ===\")\n",
    "for key, value in strobe_numbers.items():\n",
    "    print(f\"{key}: {value:,}\" if isinstance(value, int) else f\"{key}: {value:.1f}\" if isinstance(value, float) else f\"{key}: {value}\")\n",
    "\n",
    "# Save final cohort for further analysis\n",
    "final_cohort_df_export = final_cohort_df.copy()\n",
    "strobe_numbers['cohort_exported'] = True"
   ]
  },
  {
   "cell_type": "code",
   "execution_count": null,
   "metadata": {},
   "outputs": [],
   "source": []
  },
  {
   "cell_type": "code",
   "execution_count": null,
   "metadata": {},
   "outputs": [],
   "source": []
  },
  {
   "cell_type": "markdown",
   "metadata": {},
   "source": []
  }
 ],
 "metadata": {
  "kernelspec": {
   "display_name": ".venv",
   "language": "python",
   "name": "python3"
  },
  "language_info": {
   "codemirror_mode": {
    "name": "ipython",
    "version": 3
   },
   "file_extension": ".py",
   "mimetype": "text/x-python",
   "name": "python",
   "nbconvert_exporter": "python",
   "pygments_lexer": "ipython3",
   "version": "3.13.2"
  }
 },
 "nbformat": 4,
 "nbformat_minor": 4
}
